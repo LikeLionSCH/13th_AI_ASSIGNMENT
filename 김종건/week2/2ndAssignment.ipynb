{
  "cells": [
    {
      "cell_type": "code",
      "execution_count": 19,
      "metadata": {
        "id": "MLN_UAfp-wwy"
      },
      "outputs": [],
      "source": [
        "# 기존 FashionMNIST -> MNIST 변경\n",
        "import torch\n",
        "import torch.nn as nn\n",
        "import torch.optim as optim\n",
        "from torchvision import datasets, transforms\n",
        "from torch.utils.data import DataLoader"
      ]
    },
    {
      "cell_type": "code",
      "source": [
        "# GPU 사용 설정\n",
        "device = torch.device('cuda' if torch.cuda.is_available() else 'cpu')"
      ],
      "metadata": {
        "id": "W3eoZO66-BYz"
      },
      "execution_count": 2,
      "outputs": []
    },
    {
      "cell_type": "code",
      "source": [
        "# 방식 동일 / MNIST 변경\n",
        "# 데이터 전처리\n",
        "transform = transforms.Compose([\n",
        "    transforms.ToTensor(),\n",
        "    transforms.Normalize((0.5, ), (0.5, ))\n",
        "])"
      ],
      "metadata": {
        "id": "DhIhbQVP-PCy"
      },
      "execution_count": 3,
      "outputs": []
    },
    {
      "cell_type": "code",
      "source": [
        "# MNIST 숫자 데이터셋 로딩\n",
        "train_data = datasets.MNIST(root='./data', train = True, download = True, transform = transform)\n",
        "test_data = datasets.MNIST(root='./data', train = False, download = True, transform = transform)\n",
        "\n",
        "# Batch Size 증가 : 64 -> 128 (성능 향상 목적)\n",
        "train_loader = DataLoader(train_data, batch_size = 128, shuffle = True)\n",
        "test_loader = DataLoader(test_data, batch_size = 128, shuffle = False)"
      ],
      "metadata": {
        "colab": {
          "base_uri": "https://localhost:8080/"
        },
        "id": "dtDMML5g-kHv",
        "outputId": "b3e0047f-0f06-4dfa-d61a-fa6f434674f1"
      },
      "execution_count": 4,
      "outputs": [
        {
          "output_type": "stream",
          "name": "stderr",
          "text": [
            "100%|██████████| 9.91M/9.91M [00:01<00:00, 5.12MB/s]\n",
            "100%|██████████| 28.9k/28.9k [00:00<00:00, 135kB/s]\n",
            "100%|██████████| 1.65M/1.65M [00:06<00:00, 246kB/s]\n",
            "100%|██████████| 4.54k/4.54k [00:00<00:00, 9.03MB/s]\n"
          ]
        }
      ]
    },
    {
      "cell_type": "code",
      "source": [
        "# MLP 모델 정의\n",
        "class MLP(nn.Module):\n",
        "  def __init__(self):\n",
        "    super(MLP, self).__init__()\n",
        "    self.model = nn.Sequential(\n",
        "        nn.Flatten(),\n",
        "        nn.Linear(28*28, 512), # 히든 노드 수 증가\n",
        "        nn.ReLU(),\n",
        "        nn.Dropout(0.3),       # 과적합 방지를 위한 드롭아웃\n",
        "        nn.Linear(512, 256),   # 추가 히든 레이어\n",
        "        nn.ReLU(),\n",
        "        nn.Dropout(0.3),\n",
        "        nn.Linear(256, 10)     # 출력 : 숫자 0~9 (10개 클래스)\n",
        "    )\n",
        "  def forward(self, x):\n",
        "    return self.model(x)\n",
        "\n",
        "model = MLP().to(device)"
      ],
      "metadata": {
        "id": "fb8qkcFUVC8s"
      },
      "execution_count": 9,
      "outputs": []
    },
    {
      "cell_type": "code",
      "source": [
        "# 최적화 SGD -> Adam, 학습률 조절\n",
        "# 손실 함수 및 최적화 함수\n",
        "criterion = nn.CrossEntropyLoss()\n",
        "optimizer = optim.Adam(model.parameters(), lr=0.001)"
      ],
      "metadata": {
        "id": "UfTxJDjyWWvT"
      },
      "execution_count": 10,
      "outputs": []
    },
    {
      "cell_type": "code",
      "source": [
        "# 학습 루프\n",
        "def train(model, loader):\n",
        "  model.train()\n",
        "  total_loss = 0\n",
        "  for x, y in loader:\n",
        "    x, y = x.to(device), y.to(device)\n",
        "\n",
        "    optimizer.zero_grad()\n",
        "    output = model(x)\n",
        "    loss = criterion(output, y)\n",
        "    loss.backward()\n",
        "    optimizer.step()\n",
        "    total_loss += loss.item()\n",
        "  return total_loss / len(loader)"
      ],
      "metadata": {
        "id": "PqBEIh2_Woxx"
      },
      "execution_count": 15,
      "outputs": []
    },
    {
      "cell_type": "code",
      "source": [
        "# 평가 함수\n",
        "def evaluate(model, loader):\n",
        "    model.eval()\n",
        "    correct = 0\n",
        "    total = 0\n",
        "    with torch.no_grad():\n",
        "        for x, y in loader:\n",
        "            x, y = x.to(device), y.to(device)\n",
        "            output = model(x)\n",
        "            pred = output.argmax(dim=1)\n",
        "            correct += (pred == y).sum().item()\n",
        "            total += y.size(0)\n",
        "    return correct / total"
      ],
      "metadata": {
        "id": "UDrbTA8_XKns"
      },
      "execution_count": 16,
      "outputs": []
    },
    {
      "cell_type": "code",
      "source": [
        "# 학습 실행\n",
        "for epoch in range(10):\n",
        "    loss = train(model, train_loader)\n",
        "    acc = evaluate(model, test_loader)\n",
        "    print(f\"Epoch {epoch+1} | Loss: {loss:.4f} | Test Accuracy: {acc:.4f}\")"
      ],
      "metadata": {
        "colab": {
          "base_uri": "https://localhost:8080/"
        },
        "id": "xbgqE1hiXX_L",
        "outputId": "f6044fb7-6392-4b73-bc31-722029cdfb61"
      },
      "execution_count": 17,
      "outputs": [
        {
          "output_type": "stream",
          "name": "stdout",
          "text": [
            "Epoch 1 | Loss: 0.4035 | Test Accuracy: 0.9445\n",
            "Epoch 2 | Loss: 0.2004 | Test Accuracy: 0.9626\n",
            "Epoch 3 | Loss: 0.1622 | Test Accuracy: 0.9674\n",
            "Epoch 4 | Loss: 0.1427 | Test Accuracy: 0.9671\n",
            "Epoch 5 | Loss: 0.1291 | Test Accuracy: 0.9688\n",
            "Epoch 6 | Loss: 0.1180 | Test Accuracy: 0.9740\n",
            "Epoch 7 | Loss: 0.1093 | Test Accuracy: 0.9746\n",
            "Epoch 8 | Loss: 0.1058 | Test Accuracy: 0.9748\n",
            "Epoch 9 | Loss: 0.0975 | Test Accuracy: 0.9738\n",
            "Epoch 10 | Loss: 0.0891 | Test Accuracy: 0.9732\n"
          ]
        }
      ]
    },
    {
      "cell_type": "code",
      "source": [
        "# 최종 정확도 출력\n",
        "final_acc = evaluate(model, test_loader)\n",
        "print(f\"\\n최종 정확도: {final_acc*100:.2f}%\")"
      ],
      "metadata": {
        "colab": {
          "base_uri": "https://localhost:8080/"
        },
        "id": "9Kv9_9cPXbkv",
        "outputId": "6332716f-715a-4acb-f186-0582c6fdac5d"
      },
      "execution_count": 18,
      "outputs": [
        {
          "output_type": "stream",
          "name": "stdout",
          "text": [
            "\n",
            "최종 정확도: 97.32%\n"
          ]
        }
      ]
    }
  ],
  "metadata": {
    "kernelspec": {
      "display_name": "Python 3",
      "name": "python3"
    },
    "language_info": {
      "codemirror_mode": {
        "name": "ipython",
        "version": 3
      },
      "file_extension": ".py",
      "mimetype": "text/x-python",
      "name": "python",
      "nbconvert_exporter": "python",
      "pygments_lexer": "ipython3",
      "version": "3.10.15"
    },
    "colab": {
      "provenance": [],
      "gpuType": "T4"
    },
    "accelerator": "GPU"
  },
  "nbformat": 4,
  "nbformat_minor": 0
}