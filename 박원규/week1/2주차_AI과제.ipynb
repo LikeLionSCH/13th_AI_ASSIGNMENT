{
  "nbformat": 4,
  "nbformat_minor": 0,
  "metadata": {
    "colab": {
      "provenance": [],
      "gpuType": "T4"
    },
    "kernelspec": {
      "name": "python3",
      "display_name": "Python 3"
    },
    "language_info": {
      "name": "python"
    },
    "accelerator": "GPU"
  },
  "cells": [
    {
      "cell_type": "code",
      "execution_count": 1,
      "metadata": {
        "id": "MLN_UAfp-wwy"
      },
      "outputs": [],
      "source": [
        "import torch\n",
        "from torch import nn, optim     # layer / optimizer 라이브러리\n",
        "import torch.nn.functional as F\n",
        "from torch.utils.data import DataLoader     # dataset 가져오기  /MNIST를 가져오는 곳\n",
        "from torchvision import datasets, transforms    #데이터 전처리\n",
        "import matplotlib.pyplot as plt    #시각화\n",
        "from torch import random\n",
        "import numpy as np\n",
        "from torch.utils.data import random_split"
      ]
    },
    {
      "cell_type": "code",
      "source": [
        "# 디바이스 설정 (CUDA가 있으면 GPU, 없으면 CPU 사용)\n",
        "device = torch.device('cuda' if torch.cuda.is_available() else 'cpu')\n",
        "print(device)"
      ],
      "metadata": {
        "colab": {
          "base_uri": "https://localhost:8080/"
        },
        "id": "GKAsRPgyLZv_",
        "outputId": "7c4afa89-953e-4c12-c2fa-87b3258c6976"
      },
      "execution_count": 2,
      "outputs": [
        {
          "output_type": "stream",
          "name": "stdout",
          "text": [
            "cuda\n"
          ]
        }
      ]
    },
    {
      "cell_type": "code",
      "source": [
        "# data 값을 0~1 사이 값으로 전처리(normalization)\n",
        "# 데이터 전처리: 이미지 데이터를 Tensor로 변환하고 정규화\n",
        "\n",
        "transform = transforms.Compose([transforms.ToTensor(), transforms.Normalize((0.5), (0.5))]) #mean 0.5, std 0.5 #전처리 정규화"
      ],
      "metadata": {
        "id": "18XrVq5zPo6c"
      },
      "execution_count": 3,
      "outputs": []
    },
    {
      "cell_type": "code",
      "source": [
        "#   train: paramter에 영향 有\n",
        "# train=True로 설정하면 학습용 데이터셋, train=False는 테스트용 데이터셋\n",
        "#   download = true : 다운로드해서 실행\n",
        "#   transform = transform : 위에서 실행한 전처리를 적용한 채로, 데이터를 다운로드\n",
        "\n",
        "train_data = datasets.MNIST(root='./', train=True, download=True, transform=transform)\n",
        "test_data = datasets.MNIST(root='./', train=False, download=True, transform=transform)"
      ],
      "metadata": {
        "colab": {
          "base_uri": "https://localhost:8080/"
        },
        "id": "1a9AXQZUPvi7",
        "outputId": "cc966396-9740-4747-b05d-94da81b91b8c"
      },
      "execution_count": 4,
      "outputs": [
        {
          "output_type": "stream",
          "name": "stderr",
          "text": [
            "100%|██████████| 9.91M/9.91M [00:01<00:00, 6.06MB/s]\n",
            "100%|██████████| 28.9k/28.9k [00:00<00:00, 160kB/s]\n",
            "100%|██████████| 1.65M/1.65M [00:01<00:00, 1.30MB/s]\n",
            "100%|██████████| 4.54k/4.54k [00:00<00:00, 6.15MB/s]\n"
          ]
        }
      ]
    },
    {
      "cell_type": "code",
      "source": [
        "# 학습, 검증 데이터 나누기\n",
        "train_size = int(0.8 * len(train_data))\n",
        "val_size = len(train_data) - train_size\n",
        "train_data, val_data = random_split(train_data, [train_size, val_size])"
      ],
      "metadata": {
        "id": "1MFThN22P_Un"
      },
      "execution_count": 5,
      "outputs": []
    },
    {
      "cell_type": "code",
      "source": [
        "# 데이터로더 정의\n",
        "batch_size = 64\n",
        "train_loader = DataLoader(train_data, batch_size=batch_size, shuffle=True, num_workers=2)  # 학습용 데이터 로더\n",
        "val_loader = DataLoader(val_data, batch_size=batch_size, shuffle=False, num_workers=2)     # 검증용 데이터 로더\n",
        "test_loader = DataLoader(test_data, batch_size=batch_size, shuffle=False, num_workers=2)   # 테스트용 데이터 로더"
      ],
      "metadata": {
        "id": "Kdp1AdsIQjkw"
      },
      "execution_count": 6,
      "outputs": []
    },
    {
      "cell_type": "code",
      "source": [
        "# 하이퍼파라미터\n",
        "input_size = 28 * 28\n",
        "hidden_size = 128      # 은닉층 크기\n",
        "num_classes = 10       # MNIST는 0~9까지 10개의 클래스\n",
        "num_epochs = 20        # 학습 횟수\n",
        "learning_rate = 0.001  # 학습률"
      ],
      "metadata": {
        "id": "M66WmQ1MQy2M"
      },
      "execution_count": 7,
      "outputs": []
    },
    {
      "cell_type": "code",
      "source": [
        "# 모델 정의\n",
        "class MLP(nn.Module):\n",
        "    def __init__(self, input_size, hidden_size, num_classes, dropout_rate=0.3):\n",
        "        super(MLP, self).__init__()\n",
        "        self.input_layer = nn.Linear(input_size, hidden_size)       # 입력층\n",
        "        self.hidden_layer = nn.Linear(hidden_size, hidden_size)     # 은닉층\n",
        "        self.output_layer = nn.Linear(hidden_size, num_classes)     # 출력층\n",
        "        self.activation = nn.ReLU()                                 # 활성화 함수 ReLU (비선형 함수)\n",
        "        self.dropout = nn.Dropout(dropout_rate)                     # Dropout: 과적합 방지를 위해 학습 중 일부 뉴런을 랜덤하게 끄는 기법\n",
        "\n",
        "    def forward(self, x):\n",
        "        x = x.view(-1, input_size)                                  # 입력 데이터 1차원으로 펼침\n",
        "        x = self.input_layer(x)\n",
        "        x = self.activation(x)\n",
        "        x = self.dropout(x)\n",
        "\n",
        "        x = self.hidden_layer(x)\n",
        "        x = self.activation(x)\n",
        "        x = self.dropout(x)\n",
        "\n",
        "        x = self.output_layer(x)\n",
        "        return x"
      ],
      "metadata": {
        "id": "bqtlUFuXQ1PZ"
      },
      "execution_count": 8,
      "outputs": []
    },
    {
      "cell_type": "code",
      "source": [
        "# 모델 생성 및 디바이스로 이동\n",
        "model = MLP(input_size, hidden_size, num_classes)\n",
        "model.to(device)"
      ],
      "metadata": {
        "colab": {
          "base_uri": "https://localhost:8080/"
        },
        "id": "sMS7TitSRXcA",
        "outputId": "8692437a-6aa0-421e-8a14-b817dd3cb9ec"
      },
      "execution_count": 9,
      "outputs": [
        {
          "output_type": "execute_result",
          "data": {
            "text/plain": [
              "MLP(\n",
              "  (input_layer): Linear(in_features=784, out_features=128, bias=True)\n",
              "  (hidden_layer): Linear(in_features=128, out_features=128, bias=True)\n",
              "  (output_layer): Linear(in_features=128, out_features=10, bias=True)\n",
              "  (activation): ReLU()\n",
              "  (dropout): Dropout(p=0.3, inplace=False)\n",
              ")"
            ]
          },
          "metadata": {},
          "execution_count": 9
        }
      ]
    },
    {
      "cell_type": "code",
      "source": [
        "# 손실 함수 및 옵티마이저\n",
        "criterion = nn.CrossEntropyLoss()\n",
        "optimizer = optim.Adam(model.parameters(), lr=learning_rate)    # 옵티마이저를 Adam으로 설정"
      ],
      "metadata": {
        "id": "sdqbshv7RY0N"
      },
      "execution_count": 10,
      "outputs": []
    },
    {
      "cell_type": "code",
      "source": [
        "# 학습 시작\n",
        "best_val_acc = 0\n",
        "best_model = None\n",
        "\n",
        "for epoch in range(num_epochs):\n",
        "    model.train()\n",
        "    running_loss = 0.0\n",
        "    correct = 0\n",
        "    total = 0\n",
        "\n",
        "    for images, labels in train_loader:\n",
        "        images, labels = images.to(device), labels.to(device)\n",
        "\n",
        "        outputs = model(images)\n",
        "        loss = criterion(outputs, labels)          # 예측값과 실제값의 손실을 계산\n",
        "\n",
        "        optimizer.zero_grad()                      # 기울기 초기화\n",
        "        loss.backward()                            # 기울기 계산\n",
        "        optimizer.step()                           # 가중치 업데이트\n",
        "\n",
        "        running_loss += loss.item()\n",
        "        _, predicted = torch.max(outputs.data, 1)\n",
        "        total += labels.size(0)\n",
        "        correct += (predicted == labels).sum().item()\n",
        "\n",
        "    train_acc = 100 * correct / total\n",
        "    avg_train_loss = running_loss / len(train_loader)\n",
        "\n",
        "    # 검증\n",
        "    model.eval()\n",
        "    val_correct = 0\n",
        "    val_total = 0\n",
        "\n",
        "    with torch.no_grad():                        # 검증 시 기울기 계산 안함\n",
        "        for images, labels in val_loader:\n",
        "            images, labels = images.to(device), labels.to(device)\n",
        "            outputs = model(images)\n",
        "            _, predicted = torch.max(outputs.data, 1)\n",
        "            val_total += labels.size(0)\n",
        "            val_correct += (predicted == labels).sum().item()\n",
        "\n",
        "    val_acc = 100 * val_correct / val_total\n",
        "\n",
        "    # 최적 모델 저장\n",
        "    if val_acc > best_val_acc:\n",
        "        best_val_acc = val_acc\n",
        "        best_model = model.state_dict()\n",
        "\n",
        "    print(f\"Epoch [{epoch+1}/{num_epochs}], \"\n",
        "          f\"Train Loss: {avg_train_loss:.4f}, \"\n",
        "          f\"Train Acc: {train_acc:.2f}%, \"\n",
        "          f\"Val Acc: {val_acc:.2f}%\")"
      ],
      "metadata": {
        "colab": {
          "base_uri": "https://localhost:8080/"
        },
        "id": "_DsJUSQbRbA9",
        "outputId": "db44a632-8daa-4061-83e5-6873ee8be73f"
      },
      "execution_count": 11,
      "outputs": [
        {
          "output_type": "stream",
          "name": "stdout",
          "text": [
            "Epoch [1/20], Train Loss: 0.5617, Train Acc: 82.43%, Val Acc: 92.08%\n",
            "Epoch [2/20], Train Loss: 0.3140, Train Acc: 90.34%, Val Acc: 94.33%\n",
            "Epoch [3/20], Train Loss: 0.2665, Train Acc: 91.88%, Val Acc: 94.60%\n",
            "Epoch [4/20], Train Loss: 0.2400, Train Acc: 92.64%, Val Acc: 95.22%\n",
            "Epoch [5/20], Train Loss: 0.2206, Train Acc: 93.21%, Val Acc: 95.77%\n",
            "Epoch [6/20], Train Loss: 0.2063, Train Acc: 93.65%, Val Acc: 95.92%\n",
            "Epoch [7/20], Train Loss: 0.1981, Train Acc: 93.88%, Val Acc: 95.90%\n",
            "Epoch [8/20], Train Loss: 0.1901, Train Acc: 94.16%, Val Acc: 96.21%\n",
            "Epoch [9/20], Train Loss: 0.1826, Train Acc: 94.25%, Val Acc: 96.25%\n",
            "Epoch [10/20], Train Loss: 0.1816, Train Acc: 94.41%, Val Acc: 96.02%\n",
            "Epoch [11/20], Train Loss: 0.1734, Train Acc: 94.78%, Val Acc: 96.55%\n",
            "Epoch [12/20], Train Loss: 0.1678, Train Acc: 94.80%, Val Acc: 96.40%\n",
            "Epoch [13/20], Train Loss: 0.1637, Train Acc: 94.97%, Val Acc: 96.77%\n",
            "Epoch [14/20], Train Loss: 0.1599, Train Acc: 95.05%, Val Acc: 96.40%\n",
            "Epoch [15/20], Train Loss: 0.1568, Train Acc: 95.25%, Val Acc: 96.44%\n",
            "Epoch [16/20], Train Loss: 0.1572, Train Acc: 95.19%, Val Acc: 96.76%\n",
            "Epoch [17/20], Train Loss: 0.1511, Train Acc: 95.26%, Val Acc: 96.61%\n",
            "Epoch [18/20], Train Loss: 0.1477, Train Acc: 95.46%, Val Acc: 96.71%\n",
            "Epoch [19/20], Train Loss: 0.1491, Train Acc: 95.37%, Val Acc: 96.70%\n",
            "Epoch [20/20], Train Loss: 0.1476, Train Acc: 95.45%, Val Acc: 96.92%\n"
          ]
        }
      ]
    },
    {
      "cell_type": "code",
      "source": [
        "# 최적 모델 로드\n",
        "model.load_state_dict(best_model)"
      ],
      "metadata": {
        "colab": {
          "base_uri": "https://localhost:8080/"
        },
        "id": "a87HNvD9Rtmv",
        "outputId": "816424cc-5520-4f24-96b1-a5928ef0238e"
      },
      "execution_count": 12,
      "outputs": [
        {
          "output_type": "execute_result",
          "data": {
            "text/plain": [
              "<All keys matched successfully>"
            ]
          },
          "metadata": {},
          "execution_count": 12
        }
      ]
    },
    {
      "cell_type": "code",
      "source": [
        "# 테스트 정확도 측정\n",
        "model.eval()\n",
        "test_correct = 0\n",
        "test_total = 0\n",
        "\n",
        "with torch.no_grad():\n",
        "    for images, labels in test_loader:\n",
        "        images, labels = images.to(device), labels.to(device)\n",
        "        outputs = model(images)\n",
        "        _, predicted = torch.max(outputs.data, 1)\n",
        "        test_total += labels.size(0)\n",
        "        test_correct += (predicted == labels).sum().item()\n",
        "\n",
        "test_acc = 100 * test_correct / test_total\n",
        "print(f\"Final Test Accuracy: {test_acc:.2f}%\")"
      ],
      "metadata": {
        "colab": {
          "base_uri": "https://localhost:8080/"
        },
        "id": "4XVp50nYS0ml",
        "outputId": "27d383ef-d10a-44fc-81b9-89781d444dc5"
      },
      "execution_count": 14,
      "outputs": [
        {
          "output_type": "stream",
          "name": "stdout",
          "text": [
            "Final Test Accuracy: 96.99%\n"
          ]
        }
      ]
    },
    {
      "cell_type": "code",
      "source": [],
      "metadata": {
        "id": "DZ_ZMzaLS3Ja"
      },
      "execution_count": null,
      "outputs": []
    }
  ]
}