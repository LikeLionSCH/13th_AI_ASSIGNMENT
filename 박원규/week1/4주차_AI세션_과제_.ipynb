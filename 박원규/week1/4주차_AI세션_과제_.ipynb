{
  "nbformat": 4,
  "nbformat_minor": 0,
  "metadata": {
    "colab": {
      "provenance": [],
      "gpuType": "T4"
    },
    "kernelspec": {
      "name": "python3",
      "display_name": "Python 3"
    },
    "language_info": {
      "name": "python"
    },
    "accelerator": "GPU"
  },
  "cells": [
    {
      "cell_type": "code",
      "execution_count": 1,
      "metadata": {
        "id": "DBvpVCsMFgjJ"
      },
      "outputs": [],
      "source": [
        "import torch\n",
        "import torch.nn as nn\n",
        "import torchvision.datasets as dsets\n",
        "import torchvision.transforms as transforms\n",
        "import torch.nn.init\n",
        "\n",
        "device = 'cuda' if torch.cuda.is_available() else 'cpu'\n",
        "torch.manual_seed(777)\n",
        "if device == 'cuda':\n",
        "    torch.cuda.manual_seed_all(777)"
      ]
    },
    {
      "cell_type": "code",
      "source": [
        "# 입력 정규화 추가 (평균=0.5, 표준편차=0.5)\n",
        "transform = transforms.Compose([\n",
        "    transforms.ToTensor(),\n",
        "    transforms.Normalize((0.5,), (0.5,))\n",
        "])\n",
        "\n",
        "train_dataset = dsets.FashionMNIST(root='FashionMNIST_data/',\n",
        "                                    train=True,\n",
        "                                    transform=transform,\n",
        "                                    download=True)\n",
        "test_dataset = dsets.FashionMNIST(root='FashionMNIST_data/',\n",
        "                                   train=False,\n",
        "                                   transform=transform,\n",
        "                                   download=True)\n",
        "\n",
        "train_loader = torch.utils.data.DataLoader(train_dataset, batch_size=32, shuffle=True)"
      ],
      "metadata": {
        "colab": {
          "base_uri": "https://localhost:8080/"
        },
        "id": "AYxiBtbRFpNY",
        "outputId": "c1276195-7dc8-4979-8a0f-d6237b3fcb44"
      },
      "execution_count": 2,
      "outputs": [
        {
          "output_type": "stream",
          "name": "stderr",
          "text": [
            "100%|██████████| 26.4M/26.4M [00:02<00:00, 11.3MB/s]\n",
            "100%|██████████| 29.5k/29.5k [00:00<00:00, 203kB/s]\n",
            "100%|██████████| 4.42M/4.42M [00:01<00:00, 3.73MB/s]\n",
            "100%|██████████| 5.15k/5.15k [00:00<00:00, 9.75MB/s]\n"
          ]
        }
      ]
    },
    {
      "cell_type": "code",
      "source": [
        "class CNN_Normalize(nn.Module):\n",
        "    def __init__(self):\n",
        "        super(CNN_Normalize, self).__init__()\n",
        "        self.layer1 = nn.Sequential(nn.Conv2d(1,32,3,1,1), nn.ReLU(), nn.MaxPool2d(2))\n",
        "        self.layer2 = nn.Sequential(nn.Conv2d(32,64,3,1,1), nn.ReLU(), nn.MaxPool2d(2))\n",
        "        self.layer3 = nn.Sequential(nn.Conv2d(64,128,3,1,1), nn.ReLU(), nn.MaxPool2d(2))\n",
        "        self.fc1 = nn.Linear(3*3*128, 625)\n",
        "        self.fc2 = nn.Linear(625, 10)\n",
        "        torch.nn.init.xavier_uniform_(self.fc1.weight)\n",
        "\n",
        "    def forward(self, x):\n",
        "        x = self.layer1(x)\n",
        "        x = self.layer2(x)\n",
        "        x = self.layer3(x)\n",
        "        x = x.view(x.size(0), -1)\n",
        "        x = self.fc1(x)\n",
        "        x = self.fc2(x)\n",
        "        return x\n",
        "\n",
        "model = CNN_Normalize().to(device)\n",
        "criterion = nn.CrossEntropyLoss()\n",
        "optimizer = torch.optim.Adam(model.parameters(), lr=0.001)"
      ],
      "metadata": {
        "id": "e6MiXJy4FucP"
      },
      "execution_count": 3,
      "outputs": []
    },
    {
      "cell_type": "code",
      "source": [
        "# 학습\n",
        "for epoch in range(20):\n",
        "    avg_cost = 0\n",
        "    for x, y in train_loader:\n",
        "        x, y = x.to(device), y.to(device)\n",
        "        optimizer.zero_grad()\n",
        "        output = model(x)\n",
        "        cost = criterion(output, y)\n",
        "        cost.backward()\n",
        "        optimizer.step()\n",
        "        avg_cost += cost / len(train_loader)\n",
        "    print(f\"[Epoch {epoch+1}] Cost: {avg_cost:.4f}\")"
      ],
      "metadata": {
        "colab": {
          "base_uri": "https://localhost:8080/"
        },
        "id": "fWF5TONGFz7O",
        "outputId": "fb0b81f7-1dab-4fe2-dcac-29eb2d2e3aa8"
      },
      "execution_count": 4,
      "outputs": [
        {
          "output_type": "stream",
          "name": "stdout",
          "text": [
            "[Epoch 1] Cost: 0.4020\n",
            "[Epoch 2] Cost: 0.2714\n",
            "[Epoch 3] Cost: 0.2335\n",
            "[Epoch 4] Cost: 0.2054\n",
            "[Epoch 5] Cost: 0.1844\n",
            "[Epoch 6] Cost: 0.1656\n",
            "[Epoch 7] Cost: 0.1456\n",
            "[Epoch 8] Cost: 0.1336\n",
            "[Epoch 9] Cost: 0.1233\n",
            "[Epoch 10] Cost: 0.1097\n",
            "[Epoch 11] Cost: 0.1026\n",
            "[Epoch 12] Cost: 0.0914\n",
            "[Epoch 13] Cost: 0.0848\n",
            "[Epoch 14] Cost: 0.0778\n",
            "[Epoch 15] Cost: 0.0758\n",
            "[Epoch 16] Cost: 0.0689\n",
            "[Epoch 17] Cost: 0.0640\n",
            "[Epoch 18] Cost: 0.0641\n",
            "[Epoch 19] Cost: 0.0595\n",
            "[Epoch 20] Cost: 0.0583\n"
          ]
        }
      ]
    },
    {
      "cell_type": "code",
      "source": [
        "# 테스트\n",
        "with torch.no_grad():\n",
        "    test_loader = torch.utils.data.DataLoader(test_dataset, batch_size=32, shuffle=False)\n",
        "    correct = 0\n",
        "    total = 0\n",
        "    for x, y in test_loader:\n",
        "        x, y = x.to(device), y.to(device)\n",
        "        output = model(x)\n",
        "        pred = output.argmax(dim=1)\n",
        "        correct += (pred == y).sum().item()\n",
        "        total += y.size(0)\n",
        "    print(f\"Normalize 적용 모델 정확도: {100 * correct / total:.2f}%\")"
      ],
      "metadata": {
        "id": "DXOQq6VrF5S7",
        "colab": {
          "base_uri": "https://localhost:8080/"
        },
        "outputId": "e69dd8a5-8d6d-4bad-f424-d09224c3b3af"
      },
      "execution_count": 5,
      "outputs": [
        {
          "output_type": "stream",
          "name": "stdout",
          "text": [
            "✅ Normalize 적용 모델 정확도: 90.39%\n"
          ]
        }
      ]
    },
    {
      "cell_type": "markdown",
      "source": [
        "모델 정확도 90.39%"
      ],
      "metadata": {
        "id": "kXeqt1gPNTn0"
      }
    },
    {
      "cell_type": "code",
      "source": [
        "import torch\n",
        "import torch.nn as nn\n",
        "import torchvision.datasets as dsets\n",
        "import torchvision.transforms as transforms\n",
        "import torch.nn.init\n",
        "\n",
        "# 디바이스 설정\n",
        "device = 'cuda' if torch.cuda.is_available() else 'cpu'\n",
        "torch.manual_seed(777)\n",
        "if device == 'cuda':\n",
        "    torch.cuda.manual_seed_all(777)\n",
        "print(f\"Device: {device}\")\n",
        "\n",
        "# 데이터셋 로드 (Normalize 없이 ToTensor만 사용)\n",
        "transform = transforms.ToTensor()\n",
        "\n",
        "train_dataset = dsets.FashionMNIST(root='FashionMNIST_data/',\n",
        "                                    train=True,\n",
        "                                    transform=transform,\n",
        "                                    download=True)\n",
        "test_dataset = dsets.FashionMNIST(root='FashionMNIST_data/',\n",
        "                                   train=False,\n",
        "                                   transform=transform,\n",
        "                                   download=True)\n",
        "\n",
        "train_loader = torch.utils.data.DataLoader(train_dataset, batch_size=32, shuffle=True)\n",
        "test_loader = torch.utils.data.DataLoader(test_dataset, batch_size=32, shuffle=False)"
      ],
      "metadata": {
        "colab": {
          "base_uri": "https://localhost:8080/"
        },
        "id": "V0u1WvJAKMpF",
        "outputId": "70f5f07f-47dc-43fc-bb71-913d18bd5108"
      },
      "execution_count": 6,
      "outputs": [
        {
          "output_type": "stream",
          "name": "stdout",
          "text": [
            "Device: cuda\n"
          ]
        }
      ]
    },
    {
      "cell_type": "code",
      "source": [
        "# He 초기화를 적용한 CNN 모델 정의\n",
        "class CNN_HeInit(nn.Module):\n",
        "    def __init__(self):\n",
        "        super(CNN_HeInit, self).__init__()\n",
        "        self.layer1 = nn.Sequential(\n",
        "            nn.Conv2d(1, 32, 3, 1, 1),\n",
        "            nn.ReLU(),\n",
        "            nn.MaxPool2d(2)\n",
        "        )\n",
        "        self.layer2 = nn.Sequential(\n",
        "            nn.Conv2d(32, 64, 3, 1, 1),\n",
        "            nn.ReLU(),\n",
        "            nn.MaxPool2d(2)\n",
        "        )\n",
        "        self.layer3 = nn.Sequential(\n",
        "            nn.Conv2d(64, 128, 3, 1, 1),\n",
        "            nn.ReLU(),\n",
        "            nn.MaxPool2d(2)\n",
        "        )\n",
        "        self.fc1 = nn.Linear(3*3*128, 625)\n",
        "        self.fc2 = nn.Linear(625, 10)\n",
        "\n",
        "        # He 초기화 적용 (ReLU에 적합)\n",
        "        nn.init.kaiming_uniform_(self.fc1.weight, nonlinearity='relu')\n",
        "        nn.init.kaiming_uniform_(self.fc2.weight, nonlinearity='relu')\n",
        "\n",
        "    def forward(self, x):\n",
        "        x = self.layer1(x)\n",
        "        x = self.layer2(x)\n",
        "        x = self.layer3(x)\n",
        "        x = x.view(x.size(0), -1)\n",
        "        x = self.fc1(x)\n",
        "        x = self.fc2(x)\n",
        "        return x"
      ],
      "metadata": {
        "id": "nKFsS-nVKRvP"
      },
      "execution_count": 7,
      "outputs": []
    },
    {
      "cell_type": "code",
      "source": [
        "# 모델 정의 및 학습 설정\n",
        "model = CNN_HeInit().to(device)\n",
        "criterion = nn.CrossEntropyLoss()\n",
        "optimizer = torch.optim.Adam(model.parameters(), lr=0.001)"
      ],
      "metadata": {
        "id": "VtXS7OzYKW4e"
      },
      "execution_count": 8,
      "outputs": []
    },
    {
      "cell_type": "code",
      "source": [
        "# 학습과 테스트 정확도\n",
        "for epoch in range(1, 21):\n",
        "    model.train()\n",
        "    running_loss = 0.0\n",
        "    correct = 0\n",
        "    total = 0\n",
        "\n",
        "    for x, y in train_loader:\n",
        "        x, y = x.to(device), y.to(device)\n",
        "        optimizer.zero_grad()\n",
        "        outputs = model(x)\n",
        "        loss = criterion(outputs, y)\n",
        "        loss.backward()\n",
        "        optimizer.step()\n",
        "\n",
        "        running_loss += loss.item()\n",
        "        _, predicted = torch.max(outputs.data, 1)\n",
        "        total += y.size(0)\n",
        "        correct += (predicted == y).sum().item()\n",
        "\n",
        "    train_loss = running_loss / len(train_loader)\n",
        "    train_accuracy = 100 * correct / total\n",
        "\n",
        "    # 테스트 정확도\n",
        "    model.eval()\n",
        "    test_correct = 0\n",
        "    test_total = 0\n",
        "    with torch.no_grad():\n",
        "        for x_test, y_test in test_loader:\n",
        "            x_test, y_test = x_test.to(device), y_test.to(device)\n",
        "            test_outputs = model(x_test)\n",
        "            _, predicted = torch.max(test_outputs.data, 1)\n",
        "            test_total += y_test.size(0)\n",
        "            test_correct += (predicted == y_test).sum().item()\n",
        "\n",
        "    test_accuracy = 100 * test_correct / test_total\n",
        "\n",
        "    print(f\"Epoch [{epoch}/20] - Loss: {train_loss:.4f} | Train Acc: {train_accuracy:.2f}% | Test Acc: {test_accuracy:.2f}%\")"
      ],
      "metadata": {
        "colab": {
          "base_uri": "https://localhost:8080/"
        },
        "id": "XH08bD6MKaDL",
        "outputId": "fe3885b0-5f0d-4d3a-f8c1-ba401adb34ff"
      },
      "execution_count": 9,
      "outputs": [
        {
          "output_type": "stream",
          "name": "stdout",
          "text": [
            "Epoch [1/20] - Loss: 0.4161 | Train Acc: 84.64% | Test Acc: 88.22%\n",
            "Epoch [2/20] - Loss: 0.2746 | Train Acc: 90.02% | Test Acc: 90.02%\n",
            "Epoch [3/20] - Loss: 0.2357 | Train Acc: 91.42% | Test Acc: 90.28%\n",
            "Epoch [4/20] - Loss: 0.2127 | Train Acc: 92.28% | Test Acc: 90.25%\n",
            "Epoch [5/20] - Loss: 0.1924 | Train Acc: 93.02% | Test Acc: 91.24%\n",
            "Epoch [6/20] - Loss: 0.1751 | Train Acc: 93.51% | Test Acc: 91.21%\n",
            "Epoch [7/20] - Loss: 0.1578 | Train Acc: 94.20% | Test Acc: 90.76%\n",
            "Epoch [8/20] - Loss: 0.1441 | Train Acc: 94.62% | Test Acc: 91.13%\n",
            "Epoch [9/20] - Loss: 0.1316 | Train Acc: 95.18% | Test Acc: 90.48%\n",
            "Epoch [10/20] - Loss: 0.1218 | Train Acc: 95.38% | Test Acc: 91.00%\n",
            "Epoch [11/20] - Loss: 0.1095 | Train Acc: 95.92% | Test Acc: 90.85%\n",
            "Epoch [12/20] - Loss: 0.1024 | Train Acc: 96.16% | Test Acc: 91.16%\n",
            "Epoch [13/20] - Loss: 0.0935 | Train Acc: 96.52% | Test Acc: 90.72%\n",
            "Epoch [14/20] - Loss: 0.0881 | Train Acc: 96.79% | Test Acc: 90.73%\n",
            "Epoch [15/20] - Loss: 0.0823 | Train Acc: 97.08% | Test Acc: 90.95%\n",
            "Epoch [16/20] - Loss: 0.0780 | Train Acc: 97.09% | Test Acc: 90.68%\n",
            "Epoch [17/20] - Loss: 0.0721 | Train Acc: 97.35% | Test Acc: 91.21%\n",
            "Epoch [18/20] - Loss: 0.0673 | Train Acc: 97.56% | Test Acc: 90.72%\n",
            "Epoch [19/20] - Loss: 0.0660 | Train Acc: 97.59% | Test Acc: 90.11%\n",
            "Epoch [20/20] - Loss: 0.0635 | Train Acc: 97.62% | Test Acc: 90.24%\n"
          ]
        }
      ]
    },
    {
      "cell_type": "code",
      "source": [
        "print(f\"최종 결과 - Loss: {train_loss:.4f} | Train Accuracy: {train_accuracy:.2f}% | Test Accuracy: {test_accuracy:.2f}%\")"
      ],
      "metadata": {
        "colab": {
          "base_uri": "https://localhost:8080/"
        },
        "id": "QQlrv3vLM19M",
        "outputId": "cb441143-52f6-423c-ff59-fbc681dcf01b"
      },
      "execution_count": 10,
      "outputs": [
        {
          "output_type": "stream",
          "name": "stdout",
          "text": [
            "✅ 최종 결과 - Loss: 0.0635 | Train Accuracy: 97.62% | Test Accuracy: 90.24%\n"
          ]
        }
      ]
    },
    {
      "cell_type": "markdown",
      "source": [
        "모델 정확도 90.24%\n",
        "최종 결과 - Loss: 0.0635 | Train Accuracy: 97.62% | Test Accuracy: 90.24%"
      ],
      "metadata": {
        "id": "FZORhDkDNXfW"
      }
    },
    {
      "cell_type": "code",
      "source": [],
      "metadata": {
        "id": "gAw3agL0M2aq"
      },
      "execution_count": null,
      "outputs": []
    }
  ]
}