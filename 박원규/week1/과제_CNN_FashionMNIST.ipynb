{
  "nbformat": 4,
  "nbformat_minor": 0,
  "metadata": {
    "colab": {
      "provenance": [],
      "gpuType": "T4"
    },
    "kernelspec": {
      "name": "python3",
      "display_name": "Python 3"
    },
    "language_info": {
      "name": "python"
    },
    "accelerator": "GPU"
  },
  "cells": [
    {
      "cell_type": "code",
      "execution_count": null,
      "metadata": {
        "id": "zu0e2-9_x-4I"
      },
      "outputs": [],
      "source": [
        "import torch\n",
        "import torch.nn as nn\n",
        "import torchvision.datasets as dsets\n",
        "import torchvision.transforms as transforms"
      ]
    },
    {
      "cell_type": "code",
      "source": [
        "# 하이퍼파라미터 설정\n",
        "learning_rate = 0.001\n",
        "num_epochs = 50\n",
        "batch_size = 64"
      ],
      "metadata": {
        "id": "IKzim9zoyLC4"
      },
      "execution_count": null,
      "outputs": []
    },
    {
      "cell_type": "code",
      "source": [
        "# 디바이스 설정\n",
        "device = 'cuda' if torch.cuda.is_available() else 'cpu'\n",
        "torch.manual_seed(777)\n",
        "if device == 'cuda':\n",
        "    torch.cuda.manual_seed_all(777)\n",
        "print(\"Device:\", device)"
      ],
      "metadata": {
        "colab": {
          "base_uri": "https://localhost:8080/"
        },
        "id": "TMFgGROQySiX",
        "outputId": "fee027b3-2d95-4222-e58e-700191c142b8"
      },
      "execution_count": null,
      "outputs": [
        {
          "output_type": "stream",
          "name": "stdout",
          "text": [
            "Device: cuda\n"
          ]
        }
      ]
    },
    {
      "cell_type": "code",
      "source": [
        "#GPT가 성능을 높이는 방법으로 알려준 코드\n",
        "# 데이터 전처리 및 증강을 위한 transforms 설정 (훈련용)\n",
        "transform_train = transforms.Compose([\n",
        "    transforms.RandomHorizontalFlip(),   # 이미지 좌우 랜덤 반전\n",
        "    transforms.RandomCrop(28, padding=4), # 랜덤하게 이미지를 자르고 패딩 추가\n",
        "    transforms.ToTensor()   # 이미지를 텐서로 변환\n",
        "])\n",
        "\n",
        "transform_test = transforms.ToTensor()\n",
        "\n",
        "# 데이터셋: FashionMNIST 로드\n",
        "train_dataset = dsets.FashionMNIST(root='FashionMNIST_data/', train=True,\n",
        "                                    transform=transform_train, download=True)\n",
        "test_dataset = dsets.FashionMNIST(root='FashionMNIST_data/', train=False,\n",
        "                                   transform=transform_test, download=True)\n",
        "# 데이터 로더 (데이터셋을 배치 단위로 로드)\n",
        "train_loader = torch.utils.data.DataLoader(dataset=train_dataset,\n",
        "                                           batch_size=batch_size,\n",
        "                                           shuffle=True)\n",
        "test_loader = torch.utils.data.DataLoader(dataset=test_dataset,\n",
        "                                          batch_size=batch_size,\n",
        "                                          shuffle=False)"
      ],
      "metadata": {
        "id": "YSu04BrMyVBj",
        "colab": {
          "base_uri": "https://localhost:8080/",
          "height": 219
        },
        "outputId": "ad609dd2-b95f-4795-f5a3-519c940dc3a5"
      },
      "execution_count": null,
      "outputs": [
        {
          "output_type": "error",
          "ename": "NameError",
          "evalue": "name 'transforms' is not defined",
          "traceback": [
            "\u001b[0;31m---------------------------------------------------------------------------\u001b[0m",
            "\u001b[0;31mNameError\u001b[0m                                 Traceback (most recent call last)",
            "\u001b[0;32m<ipython-input-1-08b6e3f16e9c>\u001b[0m in \u001b[0;36m<cell line: 0>\u001b[0;34m()\u001b[0m\n\u001b[1;32m      1\u001b[0m \u001b[0;31m#GPT가 성능을 높이는 방법으로 알려준 코드\u001b[0m\u001b[0;34m\u001b[0m\u001b[0;34m\u001b[0m\u001b[0m\n\u001b[0;32m----> 2\u001b[0;31m transform_train = transforms.Compose([\n\u001b[0m\u001b[1;32m      3\u001b[0m     \u001b[0mtransforms\u001b[0m\u001b[0;34m.\u001b[0m\u001b[0mRandomHorizontalFlip\u001b[0m\u001b[0;34m(\u001b[0m\u001b[0;34m)\u001b[0m\u001b[0;34m,\u001b[0m\u001b[0;34m\u001b[0m\u001b[0;34m\u001b[0m\u001b[0m\n\u001b[1;32m      4\u001b[0m     \u001b[0mtransforms\u001b[0m\u001b[0;34m.\u001b[0m\u001b[0mRandomCrop\u001b[0m\u001b[0;34m(\u001b[0m\u001b[0;36m28\u001b[0m\u001b[0;34m,\u001b[0m \u001b[0mpadding\u001b[0m\u001b[0;34m=\u001b[0m\u001b[0;36m4\u001b[0m\u001b[0;34m)\u001b[0m\u001b[0;34m,\u001b[0m\u001b[0;34m\u001b[0m\u001b[0;34m\u001b[0m\u001b[0m\n\u001b[1;32m      5\u001b[0m     \u001b[0mtransforms\u001b[0m\u001b[0;34m.\u001b[0m\u001b[0mToTensor\u001b[0m\u001b[0;34m(\u001b[0m\u001b[0;34m)\u001b[0m\u001b[0;34m\u001b[0m\u001b[0;34m\u001b[0m\u001b[0m\n",
            "\u001b[0;31mNameError\u001b[0m: name 'transforms' is not defined"
          ]
        }
      ]
    },
    {
      "cell_type": "code",
      "source": [
        "# 데이터 전처리 및 증강을 위한 transforms 설정 (훈련용)# CNN 모델 정의\n",
        "class CNN(nn.Module):\n",
        "    def __init__(self):\n",
        "        super(CNN, self).__init__()\n",
        "         # 첫 번째 합성곱 레이어\n",
        "        self.layer1 = nn.Sequential(\n",
        "            nn.Conv2d(1, 32, kernel_size=3, padding=1),\n",
        "            nn.BatchNorm2d(32),\n",
        "            nn.ReLU(),\n",
        "            nn.MaxPool2d(2)\n",
        "        )\n",
        "        # 두 번째 합성곱 레이어\n",
        "        self.layer2 = nn.Sequential(\n",
        "            nn.Conv2d(32, 64, kernel_size=3, padding=1),\n",
        "            nn.BatchNorm2d(64),\n",
        "            nn.ReLU(),\n",
        "            nn.MaxPool2d(2)\n",
        "        )\n",
        "        # 세 번째 합성곱 레이어\n",
        "        self.layer3 = nn.Sequential(\n",
        "            nn.Conv2d(64, 128, kernel_size=3, padding=1),\n",
        "            nn.BatchNorm2d(128),\n",
        "            nn.ReLU(),\n",
        "            nn.MaxPool2d(2)\n",
        "        )\n",
        "        # 드롭아웃으로 과적합 방지\n",
        "        self.dropout = nn.Dropout(0.3)\n",
        "        self.fc1 = nn.Linear(3 * 3 * 128, 625)\n",
        "        self.fc2 = nn.Linear(625, 10)\n",
        "\n",
        "        # 가중치 초기화\n",
        "        nn.init.xavier_uniform_(self.fc1.weight)\n",
        "        nn.init.xavier_uniform_(self.fc2.weight)\n",
        "\n",
        "    def forward(self, x):\n",
        "        out = self.layer1(x)\n",
        "        out = self.layer2(out)\n",
        "        out = self.layer3(out)\n",
        "        out = out.view(out.size(0), -1)  # flatten\n",
        "        out = self.dropout(out)\n",
        "        out = torch.relu(self.fc1(out))\n",
        "        out = self.fc2(out)\n",
        "        return out"
      ],
      "metadata": {
        "id": "VEU99byLya5w"
      },
      "execution_count": null,
      "outputs": []
    },
    {
      "cell_type": "code",
      "source": [
        "# 모델, 손실함수, 옵티마이저 정의\n",
        "model = CNN().to(device)\n",
        "criterion = nn.CrossEntropyLoss()\n",
        "optimizer = torch.optim.Adam(model.parameters(), lr=learning_rate)"
      ],
      "metadata": {
        "id": "8H0QOtzTyhSr"
      },
      "execution_count": null,
      "outputs": []
    },
    {
      "cell_type": "code",
      "source": [
        "# 모델 학습\n",
        "for epoch in range(num_epochs):\n",
        "    avg_loss = 0\n",
        "    model.train()\n",
        "    for images, labels in train_loader:\n",
        "        images = images.to(device)\n",
        "        labels = labels.to(device)\n",
        "\n",
        "        outputs = model(images)\n",
        "        loss = criterion(outputs, labels)\n",
        "\n",
        "        optimizer.zero_grad()   # 기울기 초기화\n",
        "        loss.backward()   # 기울기 계산\n",
        "        optimizer.step()  # 모델 파라미터 업데이트\n",
        "\n",
        "        avg_loss += loss / len(train_loader)\n",
        "\n",
        "    print(f'[Epoch {epoch + 1}] Loss: {avg_loss:.4f}')"
      ],
      "metadata": {
        "colab": {
          "base_uri": "https://localhost:8080/"
        },
        "id": "UXwJAvtAzGYZ",
        "outputId": "350393d7-fc35-4997-e573-2a0424097cfb"
      },
      "execution_count": null,
      "outputs": [
        {
          "output_type": "stream",
          "name": "stdout",
          "text": [
            "[Epoch 1] Loss: 0.6427\n",
            "[Epoch 2] Loss: 0.4259\n",
            "[Epoch 3] Loss: 0.3769\n",
            "[Epoch 4] Loss: 0.3447\n",
            "[Epoch 5] Loss: 0.3254\n",
            "[Epoch 6] Loss: 0.3100\n",
            "[Epoch 7] Loss: 0.2986\n",
            "[Epoch 8] Loss: 0.2887\n",
            "[Epoch 9] Loss: 0.2812\n",
            "[Epoch 10] Loss: 0.2736\n",
            "[Epoch 11] Loss: 0.2662\n",
            "[Epoch 12] Loss: 0.2615\n",
            "[Epoch 13] Loss: 0.2544\n",
            "[Epoch 14] Loss: 0.2505\n",
            "[Epoch 15] Loss: 0.2450\n",
            "[Epoch 16] Loss: 0.2399\n",
            "[Epoch 17] Loss: 0.2379\n",
            "[Epoch 18] Loss: 0.2354\n",
            "[Epoch 19] Loss: 0.2340\n",
            "[Epoch 20] Loss: 0.2314\n",
            "[Epoch 21] Loss: 0.2244\n",
            "[Epoch 22] Loss: 0.2251\n",
            "[Epoch 23] Loss: 0.2185\n",
            "[Epoch 24] Loss: 0.2203\n",
            "[Epoch 25] Loss: 0.2158\n",
            "[Epoch 26] Loss: 0.2117\n",
            "[Epoch 27] Loss: 0.2133\n",
            "[Epoch 28] Loss: 0.2077\n",
            "[Epoch 29] Loss: 0.2074\n",
            "[Epoch 30] Loss: 0.2080\n",
            "[Epoch 31] Loss: 0.2037\n",
            "[Epoch 32] Loss: 0.2008\n",
            "[Epoch 33] Loss: 0.2022\n",
            "[Epoch 34] Loss: 0.2010\n",
            "[Epoch 35] Loss: 0.1969\n",
            "[Epoch 36] Loss: 0.1972\n",
            "[Epoch 37] Loss: 0.1963\n",
            "[Epoch 38] Loss: 0.1937\n",
            "[Epoch 39] Loss: 0.1953\n",
            "[Epoch 40] Loss: 0.1897\n",
            "[Epoch 41] Loss: 0.1895\n",
            "[Epoch 42] Loss: 0.1871\n",
            "[Epoch 43] Loss: 0.1893\n",
            "[Epoch 44] Loss: 0.1888\n",
            "[Epoch 45] Loss: 0.1848\n",
            "[Epoch 46] Loss: 0.1855\n",
            "[Epoch 47] Loss: 0.1840\n",
            "[Epoch 48] Loss: 0.1816\n",
            "[Epoch 49] Loss: 0.1824\n",
            "[Epoch 50] Loss: 0.1781\n"
          ]
        }
      ]
    },
    {
      "cell_type": "code",
      "source": [
        "# 정확도 평가\n",
        "model.eval()\n",
        "correct = 0\n",
        "total = 0\n",
        "with torch.no_grad():\n",
        "    for images, labels in test_loader:\n",
        "        images = images.to(device)\n",
        "        labels = labels.to(device)\n",
        "        outputs = model(images)\n",
        "        _, predicted = torch.max(outputs, 1)\n",
        "        total += labels.size(0)\n",
        "        correct += (predicted == labels).sum().item()\n",
        "\n",
        "accuracy = 100 * correct / total\n",
        "print(f'Accuracy on test set: {accuracy:.2f}%')"
      ],
      "metadata": {
        "colab": {
          "base_uri": "https://localhost:8080/"
        },
        "id": "-Y3Vg54rzJ6C",
        "outputId": "c5d756ca-5cd9-4e35-9e36-2644c9a85736"
      },
      "execution_count": null,
      "outputs": [
        {
          "output_type": "stream",
          "name": "stdout",
          "text": [
            "Accuracy on test set: 92.91%\n"
          ]
        }
      ]
    },
    {
      "cell_type": "code",
      "source": [],
      "metadata": {
        "id": "5VH2UGmt0A5E"
      },
      "execution_count": null,
      "outputs": []
    }
  ]
}