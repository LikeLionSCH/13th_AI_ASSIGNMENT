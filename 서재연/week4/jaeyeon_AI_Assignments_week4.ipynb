{
  "cells": [
    {
      "cell_type": "code",
      "execution_count": 2,
      "id": "136a8bec-3f42-4a05-8ad5-b4a15ec93c5e",
      "metadata": {
        "id": "136a8bec-3f42-4a05-8ad5-b4a15ec93c5e",
        "colab": {
          "base_uri": "https://localhost:8080/"
        },
        "outputId": "821a7dcb-0ff0-4f44-8f5f-b6679263eba2"
      },
      "outputs": [
        {
          "output_type": "stream",
          "name": "stderr",
          "text": [
            "100%|██████████| 26.4M/26.4M [00:00<00:00, 109MB/s]\n",
            "100%|██████████| 29.5k/29.5k [00:00<00:00, 4.07MB/s]\n",
            "100%|██████████| 4.42M/4.42M [00:00<00:00, 60.5MB/s]\n",
            "100%|██████████| 5.15k/5.15k [00:00<00:00, 11.6MB/s]\n"
          ]
        },
        {
          "output_type": "stream",
          "name": "stdout",
          "text": [
            "Epoch 1: Test Accuracy: 83.84%\n",
            "Epoch 2: Test Accuracy: 85.90%\n",
            "Epoch 3: Test Accuracy: 87.05%\n",
            "Epoch 4: Test Accuracy: 87.86%\n",
            "Epoch 5: Test Accuracy: 88.16%\n",
            "Epoch 6: Test Accuracy: 88.86%\n",
            "Epoch 7: Test Accuracy: 88.89%\n",
            "Epoch 8: Test Accuracy: 89.01%\n",
            "Epoch 9: Test Accuracy: 89.35%\n",
            "Epoch 10: Test Accuracy: 89.92%\n",
            "Epoch 11: Test Accuracy: 90.18%\n",
            "Epoch 12: Test Accuracy: 90.48%\n",
            "Epoch 13: Test Accuracy: 90.11%\n",
            "Epoch 14: Test Accuracy: 90.22%\n",
            "Epoch 15: Test Accuracy: 91.02%\n",
            "Epoch 16: Test Accuracy: 90.62%\n",
            "Epoch 17: Test Accuracy: 90.91%\n",
            "Epoch 18: Test Accuracy: 91.13%\n",
            "Epoch 19: Test Accuracy: 91.16%\n",
            "Epoch 20: Test Accuracy: 91.29%\n"
          ]
        }
      ],
      "source": [
        "import torch\n",
        "import torch.nn as nn\n",
        "import torch.optim as optim\n",
        "from torchvision import datasets, transforms\n",
        "from torch.utils.data import DataLoader\n",
        "\n",
        "device = torch.device(\"cuda\" if torch.cuda.is_available() else \"cpu\")\n",
        "\n",
        "# 입력 정규화 + 데이터 초기화(증강)\n",
        "transform = transforms.Compose([\n",
        "    transforms.RandomRotation(10),\n",
        "    transforms.RandomHorizontalFlip(),\n",
        "    transforms.ToTensor(),\n",
        "    transforms.Normalize((0.5,), (0.5,))\n",
        "])\n",
        "\n",
        "train_data = datasets.FashionMNIST(root='./data', train=True, download=True, transform=transform)\n",
        "test_data = datasets.FashionMNIST(root='./data', train=False, download=True, transform=transform)\n",
        "\n",
        "train_loader = DataLoader(train_data, batch_size=128, shuffle=True)\n",
        "test_loader = DataLoader(test_data, batch_size=128, shuffle=False)\n",
        "\n",
        "class CNNModel(nn.Module):\n",
        "    def __init__(self):\n",
        "        super(CNNModel, self).__init__()\n",
        "        self.conv1 = nn.Conv2d(1, 32, kernel_size=3, stride=1)\n",
        "        self.conv2 = nn.Conv2d(32, 64, kernel_size=3, stride=1)\n",
        "        self.dropout1 = nn.Dropout(0.25)\n",
        "        self.dropout2 = nn.Dropout(0.5)\n",
        "        self.fc1 = nn.Linear(9216, 128)\n",
        "        self.fc2 = nn.Linear(128, 10)\n",
        "        self._initialize_weights()\n",
        "\n",
        "    def _initialize_weights(self):\n",
        "        # He 초기화\n",
        "        nn.init.kaiming_normal_(self.conv1.weight, mode='fan_out', nonlinearity='relu')\n",
        "        nn.init.kaiming_normal_(self.conv2.weight, mode='fan_out', nonlinearity='relu')\n",
        "        # Xavier 초기화\n",
        "        nn.init.xavier_uniform_(self.fc1.weight)\n",
        "        nn.init.xavier_uniform_(self.fc2.weight)\n",
        "\n",
        "    def forward(self, x):\n",
        "        x = nn.functional.relu(self.conv1(x))\n",
        "        x = nn.functional.relu(self.conv2(x))\n",
        "        x = nn.functional.max_pool2d(x, 2)\n",
        "        x = self.dropout1(x)\n",
        "        x = torch.flatten(x, 1)\n",
        "        x = nn.functional.relu(self.fc1(x))\n",
        "        x = self.dropout2(x)\n",
        "        x = self.fc2(x)\n",
        "        return nn.functional.log_softmax(x, dim=1)\n",
        "\n",
        "model = CNNModel().to(device)\n",
        "optimizer = optim.Adam(model.parameters(), lr=0.0005, weight_decay=1e-4)\n",
        "loss_fn = nn.CrossEntropyLoss()\n",
        "\n",
        "epochs = 20\n",
        "for epoch in range(epochs):\n",
        "    model.train()\n",
        "    for batch_idx, (data, target) in enumerate(train_loader):\n",
        "        data, target = data.to(device), target.to(device)\n",
        "        optimizer.zero_grad()\n",
        "        output = model(data)\n",
        "        loss = loss_fn(output, target)\n",
        "        loss.backward()\n",
        "        optimizer.step()\n",
        "\n",
        "    model.eval()\n",
        "    correct = 0\n",
        "    total_loss = 0\n",
        "    with torch.no_grad():\n",
        "        for data, target in test_loader:\n",
        "            data, target = data.to(device), target.to(device)\n",
        "            output = model(data)\n",
        "            total_loss += loss_fn(output, target).item()\n",
        "            pred = output.argmax(dim=1, keepdim=True)\n",
        "            correct += pred.eq(target.view_as(pred)).sum().item()\n",
        "\n",
        "    accuracy = 100. * correct / len(test_loader.dataset)\n",
        "    print(f\"Epoch {epoch+1}: Test Accuracy: {accuracy:.2f}%\")\n"
      ]
    },
    {
      "cell_type": "code",
      "execution_count": null,
      "id": "9d662dbf-b17d-4472-8d23-6c405d558f3e",
      "metadata": {
        "id": "9d662dbf-b17d-4472-8d23-6c405d558f3e"
      },
      "outputs": [],
      "source": []
    }
  ],
  "metadata": {
    "accelerator": "GPU",
    "colab": {
      "gpuType": "T4",
      "provenance": []
    },
    "kernelspec": {
      "display_name": "Python 3",
      "name": "python3"
    },
    "language_info": {
      "codemirror_mode": {
        "name": "ipython",
        "version": 3
      },
      "file_extension": ".py",
      "mimetype": "text/x-python",
      "name": "python",
      "nbconvert_exporter": "python",
      "pygments_lexer": "ipython3",
      "version": "3.12.7"
    }
  },
  "nbformat": 4,
  "nbformat_minor": 5
}