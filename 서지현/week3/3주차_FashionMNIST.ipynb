{
 "cells": [
  {
   "cell_type": "code",
   "execution_count": 3,
   "metadata": {
    "executionInfo": {
     "elapsed": 10270,
     "status": "ok",
     "timestamp": 1743959295549,
     "user": {
      "displayName": "댕댕이",
      "userId": "03886559970431811425"
     },
     "user_tz": -540
    },
    "id": "MLN_UAfp-wwy"
   },
   "outputs": [],
   "source": [
    "import torch\n",
    "from torch import nn, optim  # layer / optimizer 라이브러리\n",
    "import torch.nn.functional as F\n",
    "from torch.utils.data import DataLoader  # dataset 가져오기\n",
    "from torchvision import datasets, transforms  # 데이터 전처리\n",
    "import matplotlib.pyplot as plt  # 시각화\n",
    "from torch import random\n",
    "import numpy as np\n",
    "from torch.utils.data import random_split"
   ]
  },
  {
   "cell_type": "markdown",
   "metadata": {
    "id": "1brn0t8z-wwz"
   },
   "source": [
    "# hyper_parameter: 모델을 구성하는 과정에서 개발자가 수정할 수 있는 파라미터\n",
    "    ex:\n",
    "    input_size = 28*28 | mnist 사이즈 크기\n",
    "    hidden_size = 128 : mlp | 히든 레이어 수\n",
    "    num_classes: 10 | mnist 손글씨 최종 분류 클래스 개수(0~9)\n",
    "    num_epoches : 10 | 몇 번 학습할지 정하는 학습 단위\n",
    "    batch_size: 데이터를 학습시킬 때, 일반적인 패턴을 학습시키기 위해서 데이터를 쪼개 구분하는 수\n",
    "    learning_rate : 0.001 | 모델이 한 번 학습 당 업데이트 되는 정도\n"
   ]
  },
  {
   "cell_type": "code",
   "execution_count": 6,
   "metadata": {},
   "outputs": [
    {
     "name": "stdout",
     "output_type": "stream",
     "text": [
      "tensor([1.], device='mps:0')\n"
     ]
    }
   ],
   "source": [
    "if torch.backends.mps.is_available():\n",
    "    mps_device = torch.device(\"mps\")\n",
    "    x = torch.ones(1, device=mps_device)\n",
    "    print(x)\n",
    "else:\n",
    "    print(\"MPS device not found.\")"
   ]
  },
  {
   "cell_type": "code",
   "execution_count": 7,
   "metadata": {
    "colab": {
     "base_uri": "https://localhost:8080/"
    },
    "executionInfo": {
     "elapsed": 5,
     "status": "ok",
     "timestamp": 1743959295551,
     "user": {
      "displayName": "댕댕이",
      "userId": "03886559970431811425"
     },
     "user_tz": -540
    },
    "id": "vPUvP3c5-ww2",
    "outputId": "eb70881d-34fd-4deb-a6ba-0269c6908011"
   },
   "outputs": [],
   "source": [
    "# device = torch.device('mps' if torch.cuda.is_available() else 'cpu') #윈도우 전용#\n",
    "# print(device)"
   ]
  },
  {
   "cell_type": "code",
   "execution_count": 8,
   "metadata": {},
   "outputs": [
    {
     "name": "stdout",
     "output_type": "stream",
     "text": [
      "mps\n"
     ]
    }
   ],
   "source": [
    "device = torch.device(\"mps\")\n",
    "print(device)  # 맥전용"
   ]
  },
  {
   "cell_type": "markdown",
   "metadata": {
    "id": "ydg8d1Hv-ww2"
   },
   "source": [
    "# dataset 로드 및 전처리 정의"
   ]
  },
  {
   "cell_type": "code",
   "execution_count": 9,
   "metadata": {
    "executionInfo": {
     "elapsed": 18,
     "status": "ok",
     "timestamp": 1743959295570,
     "user": {
      "displayName": "댕댕이",
      "userId": "03886559970431811425"
     },
     "user_tz": -540
    },
    "id": "h5-32Ku2-ww2"
   },
   "outputs": [],
   "source": [
    "# data 값을 0~1 사이 값으로 전처리(normalization)\n",
    "# 입력 data 값을 tensor로 변환\n",
    "\n",
    "transform = transforms.Compose(\n",
    "    [transforms.ToTensor(), transforms.Normalize((0.5), (0.5))]\n",
    ")  # mean 0.5, std 0.5"
   ]
  },
  {
   "cell_type": "code",
   "execution_count": 10,
   "metadata": {
    "executionInfo": {
     "elapsed": 106,
     "status": "ok",
     "timestamp": 1743959295678,
     "user": {
      "displayName": "댕댕이",
      "userId": "03886559970431811425"
     },
     "user_tz": -540
    },
    "id": "_WDdqNqU-ww3"
   },
   "outputs": [],
   "source": [
    "# datasets.FashionMNIST(root='./', train=True, download=True, transform=transform)\n",
    "#   train: paramter에 영향 有\n",
    "#   download = true : 다운로드해서 실행\n",
    "#   transform = transform : 위에서 실행한 전처리를 적용한 채로, 데이터를 다운로드\n",
    "\n",
    "train_data = datasets.FashionMNIST(\n",
    "    root=\"./\", train=True, download=True, transform=transform\n",
    ")\n",
    "test_data = datasets.FashionMNIST(\n",
    "    root=\"./\", train=False, download=True, transform=transform\n",
    ")"
   ]
  },
  {
   "cell_type": "code",
   "execution_count": null,
   "metadata": {
    "executionInfo": {
     "elapsed": 12,
     "status": "ok",
     "timestamp": 1743959295692,
     "user": {
      "displayName": "댕댕이",
      "userId": "03886559970431811425"
     },
     "user_tz": -540
    },
    "id": "gWHs_BPX-ww3"
   },
   "outputs": [],
   "source": [
    "input_size = 28 * 28  # mnist 사이즈 크기\n",
    "hidden_size = 128  # mlp | 히든 레이어 수\n",
    "num_classes = 10  # mnist 손글씨 최종 분류 클래스 개수(0~9)\n",
    "num_epochs = 10  # 몇 번 학습할지 정하는 학습 단위\n",
    "batch_size = 32  # 데이터를 학습시킬 때, 일반적인 패턴을 학습시키기 위해서 데이터를 쪼개 구분하는 수\n",
    "learning_rate = 0.0001  # 모델이 한 번 학습 당 업데이트 되는 정도"
   ]
  },
  {
   "cell_type": "code",
   "execution_count": 12,
   "metadata": {
    "executionInfo": {
     "elapsed": 64,
     "status": "ok",
     "timestamp": 1743959295757,
     "user": {
      "displayName": "댕댕이",
      "userId": "03886559970431811425"
     },
     "user_tz": -540
    },
    "id": "sJhdwcq7-ww3"
   },
   "outputs": [],
   "source": [
    "# dataset : train(80%)\n",
    "#           val(10%)\n",
    "#           test(10%)\n",
    "\n",
    "train_size = int(0.8 * (len(train_data)))\n",
    "val_size = int(len(train_data) - train_size)\n",
    "\n",
    "# train_data를 train, val로 random 하게 나눔\n",
    "train_data, val_data = random_split(train_data, [train_size, val_size])\n",
    "\n",
    "train_loader = DataLoader(\n",
    "    train_data, batch_size=batch_size, shuffle=True, num_workers=2\n",
    ")\n",
    "val_loader = DataLoader(val_data, batch_size=batch_size, shuffle=False, num_workers=2)\n",
    "test_loader = DataLoader(test_data, batch_size=batch_size, shuffle=False, num_workers=2)"
   ]
  },
  {
   "cell_type": "code",
   "execution_count": null,
   "metadata": {
    "executionInfo": {
     "elapsed": 3,
     "status": "ok",
     "timestamp": 1743959295762,
     "user": {
      "displayName": "댕댕이",
      "userId": "03886559970431811425"
     },
     "user_tz": -540
    },
    "id": "KEYXv4Mp-ww4"
   },
   "outputs": [],
   "source": [
    "class MLP(nn.Module):\n",
    "    def __init__(self, input_size, hidden_size, num_classes, dropout_rate=0.2):\n",
    "        super(MLP, self).__init__()\n",
    "        self.input_size = input_size\n",
    "        self.hidden_size = hidden_size\n",
    "        # all num of hidden_parameter : 28*28*128+128(bias 수): 100,480\n",
    "        # 28*28 = input data 수\n",
    "        # 128: hidden_layer 수\n",
    "        # +128: bias 수\n",
    "        # Runner.instance_.distanceRan\n",
    "        self.num_classes = num_classes\n",
    "        self.dropout_rate = dropout_rate\n",
    "\n",
    "        self.input_layer = nn.Linear(input_size, hidden_size)\n",
    "        # self.sigmoid = nn.Sigmoid() #0에서 1사이의 값, 비선형임 검은색은0 하얀색은255이던 데이터가 검은색은0 하얀색은1로 바뀜 ReLu도 써보기. 활성화 함수.\n",
    "        self.sigmoid = nn.ReLU()\n",
    "        self.dropout = nn.Dropout(\n",
    "            dropout_rate\n",
    "        )  # 과적합 방지 노드 몇 개 죽여서 새로운 결과 도출\n",
    "        self.output_layer = nn.Linear(hidden_size, num_classes)\n",
    "\n",
    "    # model 기능 구조 디자인\n",
    "    def forward(self, x):\n",
    "        # x : input_data\n",
    "        # x resize-> batch_size(784, 1)\n",
    "        # Linear : only 1차원만 학습; 1차원으로 resize해야 함\n",
    "        #\n",
    "        x = x.view(-1, input_size)\n",
    "        x = self.input_layer(x)\n",
    "        x = self.sigmoid(x)\n",
    "        x = self.output_layer(x)\n",
    "\n",
    "        return x"
   ]
  },
  {
   "cell_type": "code",
   "execution_count": 14,
   "metadata": {
    "colab": {
     "base_uri": "https://localhost:8080/"
    },
    "executionInfo": {
     "elapsed": 318,
     "status": "ok",
     "timestamp": 1743959296081,
     "user": {
      "displayName": "댕댕이",
      "userId": "03886559970431811425"
     },
     "user_tz": -540
    },
    "id": "XQh1_v0C-ww4",
    "outputId": "3f710389-6e14-47bc-e5a5-d90b527ea990"
   },
   "outputs": [
    {
     "data": {
      "text/plain": [
       "(torch.Size([128, 1, 28, 28]), torch.Size([128]))"
      ]
     },
     "execution_count": 14,
     "metadata": {},
     "output_type": "execute_result"
    }
   ],
   "source": [
    "images, labels = next(iter(train_loader))\n",
    "images.shape, labels.shape"
   ]
  },
  {
   "cell_type": "code",
   "execution_count": 42,
   "metadata": {
    "colab": {
     "base_uri": "https://localhost:8080/"
    },
    "executionInfo": {
     "elapsed": 229,
     "status": "ok",
     "timestamp": 1743959296311,
     "user": {
      "displayName": "댕댕이",
      "userId": "03886559970431811425"
     },
     "user_tz": -540
    },
    "id": "wVphIaxo-ww4",
    "outputId": "30596168-3591-425e-a0b4-4c710d8dc6c3"
   },
   "outputs": [
    {
     "data": {
      "text/plain": [
       "MLP(\n",
       "  (input_layer): Linear(in_features=784, out_features=128, bias=True)\n",
       "  (sigmoid): ReLU()\n",
       "  (dropout): Dropout(p=0.2, inplace=False)\n",
       "  (output_layer): Linear(in_features=128, out_features=10, bias=True)\n",
       ")"
      ]
     },
     "execution_count": 42,
     "metadata": {},
     "output_type": "execute_result"
    }
   ],
   "source": [
    "model = MLP(input_size, hidden_size, 10)\n",
    "model.to(device)  # cpu 구동->gpu 구동"
   ]
  },
  {
   "cell_type": "code",
   "execution_count": 43,
   "metadata": {
    "executionInfo": {
     "elapsed": 15,
     "status": "ok",
     "timestamp": 1743959296408,
     "user": {
      "displayName": "댕댕이",
      "userId": "03886559970431811425"
     },
     "user_tz": -540
    },
    "id": "OWLWMivH-ww5"
   },
   "outputs": [],
   "source": [
    "# 손실 함수 : 정답 데이터, 추정치 사이의 차이 계산\n",
    "\n",
    "criterion = nn.CrossEntropyLoss()  # 분류에 사용\n",
    "optimizer = optim.Adam(model.parameters(), lr=learning_rate)"
   ]
  },
  {
   "cell_type": "code",
   "execution_count": 44,
   "metadata": {
    "colab": {
     "base_uri": "https://localhost:8080/"
    },
    "executionInfo": {
     "elapsed": 8,
     "status": "ok",
     "timestamp": 1743959296417,
     "user": {
      "displayName": "댕댕이",
      "userId": "03886559970431811425"
     },
     "user_tz": -540
    },
    "id": "F8tJifu1-ww5",
    "outputId": "74472c22-cdb8-4e1f-c73b-e7046a21f282"
   },
   "outputs": [
    {
     "name": "stdout",
     "output_type": "stream",
     "text": [
      "Input_Layer_weight: torch.Size([128, 784]),\tInput_Layer_bias: torch.Size([128])\n"
     ]
    }
   ],
   "source": [
    "input_layer_weight = model.input_layer.weight.shape\n",
    "input_bias_shape = model.input_layer.bias.shape\n",
    "\n",
    "print(\n",
    "    f\"Input_Layer_weight: {input_layer_weight},\\tInput_Layer_bias: {input_bias_shape}\"\n",
    ")"
   ]
  },
  {
   "cell_type": "code",
   "execution_count": 16,
   "metadata": {
    "colab": {
     "base_uri": "https://localhost:8080/"
    },
    "executionInfo": {
     "elapsed": 124755,
     "status": "ok",
     "timestamp": 1743959421181,
     "user": {
      "displayName": "댕댕이",
      "userId": "03886559970431811425"
     },
     "user_tz": -540
    },
    "id": "TH0B6DUh-ww5",
    "outputId": "0b03cf82-d2a9-4bab-a5e3-38c8b51842cc"
   },
   "outputs": [
    {
     "name": "stdout",
     "output_type": "stream",
     "text": [
      "Epoch [1/10], Train Loss: 0.1114, Train Acc: 95.92%, Val Acc: 91.90%\n",
      "Epoch [2/10], Train Loss: 0.0994, Train Acc: 96.32%, Val Acc: 90.88%\n",
      "Epoch [3/10], Train Loss: 0.0864, Train Acc: 96.93%, Val Acc: 91.43%\n",
      "Epoch [4/10], Train Loss: 0.0767, Train Acc: 97.21%, Val Acc: 91.51%\n",
      "Epoch [5/10], Train Loss: 0.0634, Train Acc: 97.69%, Val Acc: 92.10%\n",
      "Epoch [6/10], Train Loss: 0.0540, Train Acc: 98.05%, Val Acc: 91.97%\n",
      "Epoch [7/10], Train Loss: 0.0489, Train Acc: 98.28%, Val Acc: 91.41%\n",
      "Epoch [8/10], Train Loss: 0.0422, Train Acc: 98.51%, Val Acc: 91.78%\n",
      "Epoch [9/10], Train Loss: 0.0312, Train Acc: 98.97%, Val Acc: 91.38%\n",
      "Epoch [10/10], Train Loss: 0.0313, Train Acc: 98.84%, Val Acc: 91.58%\n"
     ]
    }
   ],
   "source": [
    "best_val_acc = 0\n",
    "best_model = None\n",
    "criterion = nn.CrossEntropyLoss()\n",
    "\n",
    "for epoch in range(num_epochs):\n",
    "    model.train()\n",
    "    running_loss = 0.0\n",
    "    correct = 0\n",
    "    total = 0\n",
    "\n",
    "    for i, (images, labels) in enumerate(train_loader):\n",
    "        images, labels = images.to(device), labels.to(device)\n",
    "\n",
    "        outputs = model(images)\n",
    "        loss = criterion(outputs, labels)\n",
    "\n",
    "        optimizer.zero_grad()\n",
    "        loss.backward()\n",
    "        optimizer.step()\n",
    "\n",
    "        running_loss += loss.item()\n",
    "        _, predicted = torch.max(outputs.data, 1)\n",
    "        total += labels.size(0)\n",
    "        correct += (predicted == labels).sum().item()\n",
    "\n",
    "    train_acc = 100 * correct / total\n",
    "    avg_train_loss = running_loss / len(train_loader)\n",
    "\n",
    "    # ===== Validation =====\n",
    "    model.eval()\n",
    "    val_correct = 0\n",
    "    val_total = 0\n",
    "\n",
    "    with torch.no_grad():\n",
    "        for images, labels in val_loader:\n",
    "            images, labels = images.to(device), labels.to(device)\n",
    "            outputs = model(images)\n",
    "            _, predicted = torch.max(outputs.data, 1)\n",
    "            val_total += labels.size(0)\n",
    "            val_correct += (predicted == labels).sum().item()\n",
    "\n",
    "    val_acc = 100 * val_correct / val_total\n",
    "\n",
    "    # 최적 모델 저장\n",
    "    if val_acc > best_val_acc:\n",
    "        best_val_acc = val_acc\n",
    "        best_model = model.state_dict()  # 모델 파라미터 저장\n",
    "\n",
    "    print(\n",
    "        f\"Epoch [{epoch+1}/{num_epochs}], \"\n",
    "        f\"Train Loss: {avg_train_loss:.4f}, \"\n",
    "        f\"Train Acc: {train_acc:.2f}%, \"\n",
    "        f\"Val Acc: {val_acc:.2f}%\"\n",
    "    )"
   ]
  },
  {
   "cell_type": "markdown",
   "metadata": {},
   "source": [
    "# 3주차 과제 ⬇️"
   ]
  },
  {
   "cell_type": "code",
   "execution_count": null,
   "metadata": {},
   "outputs": [
    {
     "name": "stdout",
     "output_type": "stream",
     "text": [
      "Using device: mps\n",
      "Model created and moved to mps\n",
      "Start training!\n",
      "  --> Validation Accuracy Improved! Saving model state with Val Acc: 98.26%\n",
      "Epoch [1/15], Train Loss: 0.2233, Train Acc: 93.24%, Val Loss: 0.0556, Val Acc: 98.26%\n",
      "  --> Validation Accuracy Improved! Saving model state with Val Acc: 98.74%\n",
      "Epoch [2/15], Train Loss: 0.0932, Train Acc: 97.27%, Val Loss: 0.0392, Val Acc: 98.74%\n",
      "  --> Validation Accuracy Improved! Saving model state with Val Acc: 99.06%\n",
      "Epoch [3/15], Train Loss: 0.0754, Train Acc: 97.75%, Val Loss: 0.0322, Val Acc: 99.06%\n",
      "Epoch [4/15], Train Loss: 0.0631, Train Acc: 98.10%, Val Loss: 0.0435, Val Acc: 98.66%\n",
      "Epoch [5/15], Train Loss: 0.0571, Train Acc: 98.24%, Val Loss: 0.0281, Val Acc: 99.06%\n",
      "  --> Validation Accuracy Improved! Saving model state with Val Acc: 99.11%\n",
      "Epoch [6/15], Train Loss: 0.0489, Train Acc: 98.48%, Val Loss: 0.0267, Val Acc: 99.11%\n",
      "  --> Validation Accuracy Improved! Saving model state with Val Acc: 99.19%\n",
      "Epoch [7/15], Train Loss: 0.0452, Train Acc: 98.62%, Val Loss: 0.0256, Val Acc: 99.19%\n",
      "  --> Validation Accuracy Improved! Saving model state with Val Acc: 99.30%\n",
      "Epoch [8/15], Train Loss: 0.0381, Train Acc: 98.78%, Val Loss: 0.0261, Val Acc: 99.30%\n",
      "Epoch [9/15], Train Loss: 0.0380, Train Acc: 98.82%, Val Loss: 0.0253, Val Acc: 99.20%\n",
      "Epoch [10/15], Train Loss: 0.0336, Train Acc: 98.90%, Val Loss: 0.0276, Val Acc: 99.22%\n",
      "Epoch [11/15], Train Loss: 0.0313, Train Acc: 99.00%, Val Loss: 0.0272, Val Acc: 99.25%\n",
      "  --> Validation Accuracy Improved! Saving model state with Val Acc: 99.32%\n",
      "Epoch [12/15], Train Loss: 0.0277, Train Acc: 99.08%, Val Loss: 0.0250, Val Acc: 99.32%\n",
      "Epoch [13/15], Train Loss: 0.0261, Train Acc: 99.15%, Val Loss: 0.0261, Val Acc: 99.27%\n",
      "Epoch [14/15], Train Loss: 0.0260, Train Acc: 99.11%, Val Loss: 0.0267, Val Acc: 99.25%\n",
      "Epoch [15/15], Train Loss: 0.0239, Train Acc: 99.19%, Val Loss: 0.0301, Val Acc: 99.25%\n",
      "Training finished!\n",
      "Loaded best model with Val Acc: 99.32%\n"
     ]
    }
   ],
   "source": [
    "import torch\n",
    "import torch.nn as nn\n",
    "import torch.optim as optim\n",
    "from torchvision import datasets, transforms\n",
    "\n",
    "# 필요한 라이브러리랑 모듈 임포트 완료!\n",
    "\n",
    "# ==== 1. 데이터셋 로딩 및 전처리 ====\n",
    "# (이 부분은 아까 코드랑 동일)\n",
    "transform = transforms.Compose(\n",
    "    [transforms.ToTensor(), transforms.Normalize((0.5,), (0.5,))]\n",
    ")\n",
    "\n",
    "train_dataset = datasets.MNIST(\n",
    "    root=\"./data\", train=True, download=True, transform=transform\n",
    ")\n",
    "val_dataset = datasets.MNIST(\n",
    "    root=\"./data\", train=False, download=True, transform=transform\n",
    ")\n",
    "\n",
    "batch_size = 100\n",
    "train_loader = torch.utils.data.DataLoader(\n",
    "    train_dataset, batch_size=batch_size, shuffle=True\n",
    ")\n",
    "val_loader = torch.utils.data.DataLoader(\n",
    "    val_dataset, batch_size=batch_size, shuffle=False\n",
    ")\n",
    "\n",
    "# ==== 2. 사용할 디바이스 설정 (M1 맥 최적화!) ====\n",
    "# GPU가 있으면 'cuda'를 사용하고, M1/M2/M3 맥이면 'mps'를 사용해! 둘 다 없으면 'cpu'!\n",
    "if torch.cuda.is_available():\n",
    "    device = torch.device(\"cuda\")\n",
    "elif torch.backends.mps.is_available():  # MPS 지원하는지 확인!\n",
    "    device = torch.device(\"mps\")  # MPS 사용!\n",
    "else:\n",
    "    device = torch.device(\"cpu\")\n",
    "print(f\"Using device: {device}\")  # 어떤 디바이스 쓰는지 확인!\n",
    "\n",
    "\n",
    "# ==== 3. CNN 모델 정의 (Batch Normalization과 Dropout 추가) ====\n",
    "class AdvancedCNN(nn.Module):\n",
    "    def __init__(self):\n",
    "        super(AdvancedCNN, self).__init__()\n",
    "        self.conv1 = nn.Conv2d(in_channels=1, out_channels=32, kernel_size=3, padding=1)\n",
    "        self.bn1 = nn.BatchNorm2d(32)\n",
    "        self.relu = nn.ReLU()\n",
    "        self.maxpool1 = nn.MaxPool2d(kernel_size=2, stride=2)\n",
    "\n",
    "        self.conv2 = nn.Conv2d(\n",
    "            in_channels=32, out_channels=64, kernel_size=3, padding=1\n",
    "        )\n",
    "        self.bn2 = nn.BatchNorm2d(64)\n",
    "        self.maxpool2 = nn.MaxPool2d(kernel_size=2, stride=2)\n",
    "\n",
    "        self.fc1 = nn.Linear(64 * 7 * 7, 128)\n",
    "        self.dropout = nn.Dropout(p=0.5)\n",
    "        self.fc2 = nn.Linear(128, 10)\n",
    "\n",
    "    def forward(self, x):\n",
    "        x = self.conv1(x)\n",
    "        x = self.bn1(x)\n",
    "        x = self.relu(x)\n",
    "        x = self.maxpool1(x)\n",
    "\n",
    "        x = self.conv2(x)\n",
    "        x = self.bn2(x)\n",
    "        x = self.relu(x)\n",
    "        x = self.maxpool2(x)\n",
    "\n",
    "        x = x.view(x.size(0), -1)\n",
    "\n",
    "        x = self.fc1(x)\n",
    "        x = self.relu(x)\n",
    "        x = self.dropout(x)\n",
    "        x = self.fc2(x)\n",
    "\n",
    "        return x\n",
    "\n",
    "\n",
    "# ==== 4. 모델 객체 생성 및 디바이스로 이동 ====\n",
    "model = AdvancedCNN().to(device)\n",
    "print(f\"Model created and moved to {device}\")\n",
    "\n",
    "# ==== 5. 손실 함수 및 옵티마이저 정의 ====\n",
    "criterion = nn.CrossEntropyLoss()\n",
    "optimizer = optim.Adam(model.parameters(), lr=0.001)\n",
    "num_epochs = 15\n",
    "\n",
    "best_val_acc = 0\n",
    "best_model_state_dict = None\n",
    "\n",
    "# ==== 6. 모델 학습 및 검증 루프 시작! ====\n",
    "print(\"Start training!\")\n",
    "for epoch in range(num_epochs):\n",
    "    model.train()\n",
    "    running_loss = 0.0\n",
    "    correct = 0\n",
    "    total = 0\n",
    "\n",
    "    for i, (images, labels) in enumerate(train_loader):\n",
    "        images, labels = images.to(device), labels.to(device)\n",
    "\n",
    "        outputs = model(images)\n",
    "        loss = criterion(outputs, labels)\n",
    "\n",
    "        optimizer.zero_grad()\n",
    "        loss.backward()\n",
    "        optimizer.step()\n",
    "\n",
    "        running_loss += loss.item()\n",
    "        _, predicted = torch.max(outputs.data, 1)\n",
    "        total += labels.size(0)\n",
    "        correct += (predicted == labels).sum().item()\n",
    "\n",
    "    train_acc = 100 * correct / total\n",
    "    avg_train_loss = running_loss / len(train_loader)\n",
    "\n",
    "    # ===== 검증 시작! =====\n",
    "    model.eval()\n",
    "    val_correct = 0\n",
    "    val_total = 0\n",
    "    val_loss = 0.0\n",
    "\n",
    "    with torch.no_grad():\n",
    "        for images, labels in val_loader:\n",
    "            images, labels = images.to(device), labels.to(device)\n",
    "            outputs = model(images)\n",
    "            v_loss = criterion(outputs, labels)\n",
    "            val_loss += v_loss.item()\n",
    "\n",
    "            _, predicted = torch.max(outputs.data, 1)\n",
    "            val_total += labels.size(0)\n",
    "            val_correct += (predicted == labels).sum().item()\n",
    "\n",
    "    val_acc = 100 * val_correct / val_total\n",
    "    avg_val_loss = val_loss / len(val_loader)\n",
    "\n",
    "    if val_acc > best_val_acc:\n",
    "        best_val_acc = val_acc\n",
    "        best_model_state_dict = model.state_dict()\n",
    "        print(\n",
    "            f\"  --> Validation Accuracy Improved! Saving model state with Val Acc: {val_acc:.2f}%\"\n",
    "        )\n",
    "\n",
    "    print(\n",
    "        f\"Epoch [{epoch+1}/{num_epochs}], \"\n",
    "        f\"Train Loss: {avg_train_loss:.4f}, \"\n",
    "        f\"Train Acc: {train_acc:.2f}%, \"\n",
    "        f\"Val Loss: {avg_val_loss:.4f}, \"\n",
    "        f\"Val Acc: {val_acc:.2f}%\"\n",
    "    )\n",
    "\n",
    "print(\"Training finished!\")\n",
    "\n",
    "# ==== 7. 학습 완료 후 최적 모델 불러오기 (선택 사항) ====\n",
    "# (이 부분은 아까 코드랑 동일)\n",
    "if best_model_state_dict is not None:\n",
    "    final_model = AdvancedCNN().to(device)\n",
    "    final_model.load_state_dict(best_model_state_dict)\n",
    "    print(f\"Loaded best model with Val Acc: {best_val_acc:.2f}%\")\n",
    "    # 이제 final_model을 사용해서 예측하거나 최종 테스트를 할 수 있어!\n",
    "    # final_model.eval() # 사용할 때는 다시 평가 모드로 설정!"
   ]
  },
  {
   "cell_type": "code",
   "execution_count": null,
   "metadata": {
    "colab": {
     "base_uri": "https://localhost:8080/",
     "height": 983
    },
    "executionInfo": {
     "elapsed": 735,
     "status": "ok",
     "timestamp": 1743959471628,
     "user": {
      "displayName": "댕댕이",
      "userId": "03886559970431811425"
     },
     "user_tz": -540
    },
    "id": "VWxJK6Et-ww5",
    "outputId": "9f0a854a-66c4-41b1-e750-0d7351aff14e"
   },
   "outputs": [
    {
     "data": {
      "image/png": "[encoded data removed]",
      "text/plain": [
       "<Figure size 1200x1200 with 16 Axes>"
      ]
     },
     "metadata": {},
     "output_type": "display_data"
    }
   ],
   "source": [
    "import matplotlib.pyplot as plt\n",
    "\n",
    "labels_map = {\n",
    "    0: \"T-shirt/top\",\n",
    "    1: \"Trouser\",\n",
    "    2: \"Pullover\",\n",
    "    3: \"Dress\",\n",
    "    4: \"Coat\",\n",
    "    5: \"Sandal\",\n",
    "    6: \"Shirt\",\n",
    "    7: \"Sneaker\",\n",
    "    8: \"Bag\",\n",
    "    9: \"Ankle boot\",\n",
    "}\n",
    "\n",
    "figure = plt.figure(figsize=(12, 12))\n",
    "cols, rows = 4, 4\n",
    "\n",
    "# 보통 DataLoader에서 한 배치 가져오기\n",
    "data_iter = iter(train_loader)\n",
    "images, labels = next(data_iter)\n",
    "\n",
    "for i in range(1, cols * rows + 1):\n",
    "    image = images[i].squeeze().cpu()  # ✅ GPU -> CPU\n",
    "    label_idx = labels[i].item()\n",
    "    label = labels_map[label_idx]\n",
    "\n",
    "    figure.add_subplot(rows, cols, i)\n",
    "    plt.title(label)\n",
    "    plt.axis(\"off\")\n",
    "    plt.imshow(image, cmap=\"gray\")\n",
    "\n",
    "plt.show()"
   ]
  },
  {
   "cell_type": "code",
   "execution_count": null,
   "metadata": {
    "executionInfo": {
     "elapsed": 1,
     "status": "aborted",
     "timestamp": 1743959421250,
     "user": {
      "displayName": "댕댕이",
      "userId": "03886559970431811425"
     },
     "user_tz": -540
    },
    "id": "C4KJSa6G-ww5"
   },
   "outputs": [
    {
     "name": "stdout",
     "output_type": "stream",
     "text": [
      "ConvNet(\n",
      "  (conv1): Conv2d(1, 8, kernel_size=(3, 3), stride=(1, 1))\n",
      "  (flatten): Flatten(start_dim=1, end_dim=-1)\n",
      "  (fc1): Linear(in_features=1352, out_features=64, bias=True)\n",
      "  (fc2): Linear(in_features=64, out_features=10, bias=True)\n",
      ")\n"
     ]
    }
   ],
   "source": [
    "class ConvNet(nn.Module):\n",
    "    def __init__(self):\n",
    "        super(ConvNet, self).__init__()\n",
    "\n",
    "        self.conv1 = nn.Conv2d(1, 8, 3)\n",
    "        self.flatten = nn.Flatten()\n",
    "        self.fc1 = nn.Linear(8 * 13 * 13, 64)\n",
    "        self.fc2 = nn.Linear(64, 10)\n",
    "\n",
    "    def forward(self, x):\n",
    "        # 28x28x3\n",
    "        x = F.max_pool2d(F.relu(self.conv1(x)), (2, 2))\n",
    "        x = self.flatten(x)\n",
    "        x = F.relu(self.fc1(x))\n",
    "        x = self.fc2(x)\n",
    "\n",
    "        return x\n",
    "\n",
    "    def num_flat_features(self, x):\n",
    "        size = x.size()[1:]\n",
    "        num_features = 1\n",
    "        for s in size:\n",
    "            num_features *= s\n",
    "\n",
    "        return num_features\n",
    "\n",
    "\n",
    "net = ConvNet()\n",
    "net.to(device)\n",
    "print(net)"
   ]
  },
  {
   "cell_type": "code",
   "execution_count": 131,
   "metadata": {
    "executionInfo": {
     "elapsed": 1,
     "status": "aborted",
     "timestamp": 1743959421252,
     "user": {
      "displayName": "댕댕이",
      "userId": "03886559970431811425"
     },
     "user_tz": -540
    },
    "id": "CnaxPYpp-ww6"
   },
   "outputs": [
    {
     "name": "stdout",
     "output_type": "stream",
     "text": [
      "6\n",
      "torch.Size([8, 1, 3, 3])\n"
     ]
    }
   ],
   "source": [
    "params = list(net.parameters())\n",
    "print(len(params))\n",
    "print(params[0].size())"
   ]
  },
  {
   "cell_type": "code",
   "execution_count": null,
   "metadata": {
    "executionInfo": {
     "elapsed": 136100,
     "status": "aborted",
     "timestamp": 1743959421273,
     "user": {
      "displayName": "댕댕이",
      "userId": "03886559970431811425"
     },
     "user_tz": -540
    },
    "id": "puDxaTeV-ww6"
   },
   "outputs": [
    {
     "name": "stdout",
     "output_type": "stream",
     "text": [
      "tensor([[-0.2359,  0.0294,  0.1963,  0.0887,  0.2159, -0.1527, -0.2346,  0.0243,\n",
      "         -0.2118,  0.0214]], device='mps:0', grad_fn=<LinearBackward0>)\n"
     ]
    }
   ],
   "source": [
    "input = torch.randn(1, 1, 28, 28)\n",
    "out = net(input.to(device))\n",
    "print(out)"
   ]
  },
  {
   "cell_type": "code",
   "execution_count": null,
   "metadata": {
    "executionInfo": {
     "elapsed": 1,
     "status": "aborted",
     "timestamp": 1743959421275,
     "user": {
      "displayName": "댕댕이",
      "userId": "03886559970431811425"
     },
     "user_tz": -540
    },
    "id": "ZMCzkodU-ww6"
   },
   "outputs": [],
   "source": [
    "loss_fn = nn.CrossEntropyLoss()\n",
    "optimizer = optim.SGD(net.parameters(), lr=0.001, momentum=0.9)"
   ]
  },
  {
   "cell_type": "code",
   "execution_count": 134,
   "metadata": {
    "executionInfo": {
     "elapsed": 136099,
     "status": "aborted",
     "timestamp": 1743959421276,
     "user": {
      "displayName": "댕댕이",
      "userId": "03886559970431811425"
     },
     "user_tz": -540
    },
    "id": "lf59CNwp-ww6"
   },
   "outputs": [
    {
     "name": "stdout",
     "output_type": "stream",
     "text": [
      "600\n"
     ]
    }
   ],
   "source": [
    "total_batch = len(train_loader)\n",
    "print(total_batch)"
   ]
  },
  {
   "cell_type": "code",
   "execution_count": 135,
   "metadata": {
    "executionInfo": {
     "elapsed": 136098,
     "status": "aborted",
     "timestamp": 1743959421277,
     "user": {
      "displayName": "댕댕이",
      "userId": "03886559970431811425"
     },
     "user_tz": -540
    },
    "id": "BM8IWuk9-ww6"
   },
   "outputs": [
    {
     "name": "stdout",
     "output_type": "stream",
     "text": [
      "epoch: 1, iter: 100, loss: 2.136911895275116\n",
      "epoch: 1, iter: 200, loss: 1.595171378850937\n",
      "epoch: 1, iter: 300, loss: 1.097698226571083\n",
      "epoch: 1, iter: 400, loss: 0.8809179788827897\n",
      "epoch: 1, iter: 500, loss: 0.7912424373626709\n",
      "epoch: 1, iter: 600, loss: 0.7316463381052017\n",
      "epoch: 2, iter: 100, loss: 0.6784324771165848\n",
      "epoch: 2, iter: 200, loss: 0.6699677330255508\n",
      "epoch: 2, iter: 300, loss: 0.6128032532334328\n",
      "epoch: 2, iter: 400, loss: 0.6087174609303474\n",
      "epoch: 2, iter: 500, loss: 0.5663440099358559\n",
      "epoch: 2, iter: 600, loss: 0.5550397312641144\n",
      "epoch: 3, iter: 100, loss: 0.5559477078914642\n",
      "epoch: 3, iter: 200, loss: 0.527424127459526\n",
      "epoch: 3, iter: 300, loss: 0.5217319360375404\n",
      "epoch: 3, iter: 400, loss: 0.522183797955513\n",
      "epoch: 3, iter: 500, loss: 0.4966419646143913\n",
      "epoch: 3, iter: 600, loss: 0.5095649960637093\n",
      "epoch: 4, iter: 100, loss: 0.49113125681877134\n",
      "epoch: 4, iter: 200, loss: 0.4826241013407707\n",
      "epoch: 4, iter: 300, loss: 0.47356379956007005\n",
      "epoch: 4, iter: 400, loss: 0.47254809260368347\n",
      "epoch: 4, iter: 500, loss: 0.4695261135697365\n",
      "epoch: 4, iter: 600, loss: 0.45954351365566254\n",
      "epoch: 5, iter: 100, loss: 0.4427600997686386\n",
      "epoch: 5, iter: 200, loss: 0.4486363711953163\n",
      "epoch: 5, iter: 300, loss: 0.4393634305894375\n",
      "epoch: 5, iter: 400, loss: 0.4368094289302826\n",
      "epoch: 5, iter: 500, loss: 0.44117113053798673\n",
      "epoch: 5, iter: 600, loss: 0.43636194288730623\n",
      "epoch: 6, iter: 100, loss: 0.4050119324028492\n",
      "epoch: 6, iter: 200, loss: 0.4146161259710789\n",
      "epoch: 6, iter: 300, loss: 0.42190246760845185\n",
      "epoch: 6, iter: 400, loss: 0.41501956775784493\n",
      "epoch: 6, iter: 500, loss: 0.4305885203182697\n",
      "epoch: 6, iter: 600, loss: 0.423830873221159\n",
      "epoch: 7, iter: 100, loss: 0.4017217907309532\n",
      "epoch: 7, iter: 200, loss: 0.40909949973225596\n",
      "epoch: 7, iter: 300, loss: 0.3964688031375408\n",
      "epoch: 7, iter: 400, loss: 0.4115895558893681\n",
      "epoch: 7, iter: 500, loss: 0.4078904363512993\n"
     ]
    },
    {
     "name": "stderr",
     "output_type": "stream",
     "text": [
      "libc++abi: terminating due to uncaught exception of type std::__1::system_error: Broken pipe\n",
      "libc++abi: terminating due to uncaught exception of type std::__1::system_error: Broken pipe\n",
      "libc++abi: terminating due to uncaught exception of type std::__1::system_error: Broken pipe\n",
      "libc++abi: terminating due to uncaught exception of type std::__1::system_error: Broken pipe\n",
      "libc++abi: terminating due to uncaught exception of type std::__1::system_error: Broken pipe\n",
      "libc++abi: terminating due to uncaught exception of type std::__1::system_error: Broken pipe\n",
      "Exception ignored in: <function _MultiProcessingDataLoaderIter.__del__ at 0x11783d510>\n",
      "Traceback (most recent call last):\n",
      "  File \"/Users/w4vyx/miniconda3/envs/8lue/lib/python3.10/site-packages/torch/utils/data/dataloader.py\", line 1478, in __del__\n",
      "    self._shutdown_workers()\n",
      "  File \"/Users/w4vyx/miniconda3/envs/8lue/lib/python3.10/site-packages/torch/utils/data/dataloader.py\", line 1442, in _shutdown_workers\n",
      "    w.join(timeout=_utils.MP_STATUS_CHECK_INTERVAL)\n",
      "  File \"/Users/w4vyx/miniconda3/envs/8lue/lib/python3.10/multiprocessing/process.py\", line 149, in join\n",
      "    res = self._popen.wait(timeout)\n",
      "  File \"/Users/w4vyx/miniconda3/envs/8lue/lib/python3.10/multiprocessing/popen_fork.py\", line 43, in wait\n",
      "    return self.poll(os.WNOHANG if timeout == 0.0 else 0)\n",
      "  File \"/Users/w4vyx/miniconda3/envs/8lue/lib/python3.10/multiprocessing/popen_fork.py\", line 27, in poll\n",
      "    pid, sts = os.waitpid(self.pid, flag)\n",
      "  File \"/Users/w4vyx/miniconda3/envs/8lue/lib/python3.10/site-packages/torch/utils/data/_utils/signal_handling.py\", line 66, in handler\n",
      "    _error_if_any_worker_fails()\n",
      "RuntimeError: DataLoader worker (pid 48729) is killed by signal: Abort trap: 6. \n"
     ]
    },
    {
     "name": "stdout",
     "output_type": "stream",
     "text": [
      "Unexpected exception formatting exception. Falling back to standard exception\n"
     ]
    },
    {
     "name": "stderr",
     "output_type": "stream",
     "text": [
      "Traceback (most recent call last):\n",
      "  File \"/Users/w4vyx/miniconda3/envs/8lue/lib/python3.10/site-packages/IPython/core/interactiveshell.py\", line 3550, in run_code\n",
      "    exec(code_obj, self.user_global_ns, self.user_ns)\n",
      "  File \"/var/folders/fz/9r0fly8s5gdf_yv2_ds98st40000gn/T/ipykernel_45420/2300249683.py\", line 9, in <module>\n",
      "    loss = loss_fn(outputs, labels.to(device))\n",
      "  File \"/Users/w4vyx/miniconda3/envs/8lue/lib/python3.10/site-packages/torch/nn/modules/module.py\", line 1518, in _wrapped_call_impl\n",
      "    return self._call_impl(*args, **kwargs)\n",
      "  File \"/Users/w4vyx/miniconda3/envs/8lue/lib/python3.10/site-packages/torch/nn/modules/module.py\", line 1527, in _call_impl\n",
      "    return forward_call(*args, **kwargs)\n",
      "  File \"/Users/w4vyx/miniconda3/envs/8lue/lib/python3.10/site-packages/torch/nn/modules/loss.py\", line 1179, in forward\n",
      "    return F.cross_entropy(input, target, weight=self.weight,\n",
      "  File \"/Users/w4vyx/miniconda3/envs/8lue/lib/python3.10/site-packages/torch/nn/functional.py\", line 3053, in cross_entropy\n",
      "    return torch._C._nn.cross_entropy_loss(input, target, weight, _Reduction.get_enum(reduction), ignore_index, label_smoothing)\n",
      "KeyboardInterrupt\n",
      "\n",
      "During handling of the above exception, another exception occurred:\n",
      "\n",
      "Traceback (most recent call last):\n",
      "  File \"/Users/w4vyx/miniconda3/envs/8lue/lib/python3.10/site-packages/IPython/core/interactiveshell.py\", line 2144, in showtraceback\n",
      "    stb = self.InteractiveTB.structured_traceback(\n",
      "  File \"/Users/w4vyx/miniconda3/envs/8lue/lib/python3.10/site-packages/IPython/core/ultratb.py\", line 1435, in structured_traceback\n",
      "    return FormattedTB.structured_traceback(\n",
      "  File \"/Users/w4vyx/miniconda3/envs/8lue/lib/python3.10/site-packages/IPython/core/ultratb.py\", line 1326, in structured_traceback\n",
      "    return VerboseTB.structured_traceback(\n",
      "  File \"/Users/w4vyx/miniconda3/envs/8lue/lib/python3.10/site-packages/IPython/core/ultratb.py\", line 1173, in structured_traceback\n",
      "    formatted_exception = self.format_exception_as_a_whole(etype, evalue, etb, number_of_lines_of_context,\n",
      "  File \"/Users/w4vyx/miniconda3/envs/8lue/lib/python3.10/site-packages/IPython/core/ultratb.py\", line 1063, in format_exception_as_a_whole\n",
      "    self.get_records(etb, number_of_lines_of_context, tb_offset) if etb else []\n",
      "  File \"/Users/w4vyx/miniconda3/envs/8lue/lib/python3.10/site-packages/IPython/core/ultratb.py\", line 1160, in get_records\n",
      "    res = list(stack_data.FrameInfo.stack_data(etb, options=options))[tb_offset:]\n",
      "  File \"/Users/w4vyx/miniconda3/envs/8lue/lib/python3.10/site-packages/stack_data/core.py\", line 597, in stack_data\n",
      "    yield from collapse_repeated(\n",
      "  File \"/Users/w4vyx/miniconda3/envs/8lue/lib/python3.10/site-packages/stack_data/utils.py\", line 83, in collapse_repeated\n",
      "    yield from map(mapper, original_group)\n",
      "  File \"/Users/w4vyx/miniconda3/envs/8lue/lib/python3.10/site-packages/stack_data/core.py\", line 587, in mapper\n",
      "    return cls(f, options)\n",
      "  File \"/Users/w4vyx/miniconda3/envs/8lue/lib/python3.10/site-packages/stack_data/core.py\", line 551, in __init__\n",
      "    self.executing = Source.executing(frame_or_tb)\n",
      "  File \"/Users/w4vyx/miniconda3/envs/8lue/lib/python3.10/site-packages/executing/executing.py\", line 264, in executing\n",
      "    source = cls.for_frame(frame)\n",
      "  File \"/Users/w4vyx/miniconda3/envs/8lue/lib/python3.10/site-packages/executing/executing.py\", line 183, in for_frame\n",
      "    return cls.for_filename(frame.f_code.co_filename, frame.f_globals or {}, use_cache)\n",
      "  File \"/Users/w4vyx/miniconda3/envs/8lue/lib/python3.10/site-packages/executing/executing.py\", line 212, in for_filename\n",
      "    return cls._for_filename_and_lines(filename, tuple(lines))\n",
      "  File \"/Users/w4vyx/miniconda3/envs/8lue/lib/python3.10/site-packages/executing/executing.py\", line 223, in _for_filename_and_lines\n",
      "    result = source_cache[(filename, lines)] = cls(filename, lines)\n",
      "  File \"/Users/w4vyx/miniconda3/envs/8lue/lib/python3.10/site-packages/executing/executing.py\", line 163, in __init__\n",
      "    self.tree = ast.parse(self.text, filename=filename)\n",
      "  File \"/Users/w4vyx/miniconda3/envs/8lue/lib/python3.10/ast.py\", line 50, in parse\n",
      "    return compile(source, filename, mode, flags,\n",
      "  File \"/Users/w4vyx/miniconda3/envs/8lue/lib/python3.10/site-packages/torch/utils/data/_utils/signal_handling.py\", line 66, in handler\n",
      "    _error_if_any_worker_fails()\n",
      "RuntimeError: DataLoader worker (pid 48710) is killed by signal: Abort trap: 6. \n"
     ]
    }
   ],
   "source": [
    "for epoch in range(10):\n",
    "    running_loss = 0.0\n",
    "\n",
    "    for i, data in enumerate(train_loader, 0):\n",
    "        inputs, labels = data\n",
    "        optimizer.zero_grad()\n",
    "\n",
    "        outputs = net(inputs.to(device))\n",
    "        loss = loss_fn(outputs, labels.to(device))\n",
    "        loss.backward()\n",
    "        optimizer.step()\n",
    "\n",
    "        running_loss += loss.item()\n",
    "\n",
    "        if i % 100 == 99:\n",
    "            print(\n",
    "                \"epoch: {}, iter: {}, loss: {}\".format(\n",
    "                    epoch + 1, i + 1, running_loss / 100\n",
    "                )\n",
    "            )\n",
    "            running_loss = 0.0"
   ]
  },
  {
   "cell_type": "code",
   "execution_count": null,
   "metadata": {
    "executionInfo": {
     "elapsed": 136097,
     "status": "aborted",
     "timestamp": 1743959421278,
     "user": {
      "displayName": "댕댕이",
      "userId": "03886559970431811425"
     },
     "user_tz": -540
    },
    "id": "jO-479Na-ww7"
   },
   "outputs": [],
   "source": [
    "path = \"./model.pth\"\n",
    "torch.save(net.state_dict(), path)"
   ]
  },
  {
   "cell_type": "code",
   "execution_count": null,
   "metadata": {
    "executionInfo": {
     "elapsed": 136096,
     "status": "aborted",
     "timestamp": 1743959421279,
     "user": {
      "displayName": "댕댕이",
      "userId": "03886559970431811425"
     },
     "user_tz": -540
    },
    "id": "CXbw4JE5-ww7"
   },
   "outputs": [
    {
     "data": {
      "text/plain": [
       "<All keys matched successfully>"
      ]
     },
     "execution_count": 111,
     "metadata": {},
     "output_type": "execute_result"
    }
   ],
   "source": [
    "net = ConvNet()\n",
    "net.load_state_dict(torch.load(path))"
   ]
  },
  {
   "cell_type": "code",
   "execution_count": null,
   "metadata": {
    "executionInfo": {
     "elapsed": 136107,
     "status": "aborted",
     "timestamp": 1743959421292,
     "user": {
      "displayName": "댕댕이",
      "userId": "03886559970431811425"
     },
     "user_tz": -540
    },
    "id": "riUZxcu3-ww7"
   },
   "outputs": [
    {
     "data": {
      "text/plain": [
       "<bound method Module.parameters of ConvNet(\n",
       "  (conv1): Conv2d(1, 8, kernel_size=(3, 3), stride=(1, 1))\n",
       "  (flatten): Flatten(start_dim=1, end_dim=-1)\n",
       "  (fc1): Linear(in_features=1352, out_features=64, bias=True)\n",
       "  (fc2): Linear(in_features=64, out_features=10, bias=True)\n",
       ")>"
      ]
     },
     "execution_count": 112,
     "metadata": {},
     "output_type": "execute_result"
    }
   ],
   "source": [
    "net.parameters"
   ]
  },
  {
   "cell_type": "code",
   "execution_count": null,
   "metadata": {
    "executionInfo": {
     "elapsed": 136106,
     "status": "aborted",
     "timestamp": 1743959421294,
     "user": {
      "displayName": "댕댕이",
      "userId": "03886559970431811425"
     },
     "user_tz": -540
    },
    "id": "R8uirAtz-ww7"
   },
   "outputs": [],
   "source": [
    "def imshow(image):\n",
    "    image = image / 2 + 0.5\n",
    "    npimg = image.numpy()\n",
    "\n",
    "    fig = plt.figure(figsize=(16, 8))\n",
    "    plt.imshow(np.transpose(npimg, (1, 2, 0)))\n",
    "    plt.show()"
   ]
  },
  {
   "cell_type": "code",
   "execution_count": null,
   "metadata": {
    "executionInfo": {
     "elapsed": 136104,
     "status": "aborted",
     "timestamp": 1743959421295,
     "user": {
      "displayName": "댕댕이",
      "userId": "03886559970431811425"
     },
     "user_tz": -540
    },
    "id": "Xy6d4az8-ww7"
   },
   "outputs": [
    {
     "data": {
      "image/png": "[encoded data removed]",
      "text/plain": [
       "<Figure size 1600x800 with 1 Axes>"
      ]
     },
     "metadata": {},
     "output_type": "display_data"
    }
   ],
   "source": [
    "import torchvision\n",
    "import numpy as np\n",
    "\n",
    "dataiter = iter(test_loader)\n",
    "\n",
    "images, labels = next(dataiter)\n",
    "\n",
    "imshow(torchvision.utils.make_grid(images[:6]))"
   ]
  },
  {
   "cell_type": "code",
   "execution_count": null,
   "metadata": {
    "executionInfo": {
     "elapsed": 136103,
     "status": "aborted",
     "timestamp": 1743959421296,
     "user": {
      "displayName": "댕댕이",
      "userId": "03886559970431811425"
     },
     "user_tz": -540
    },
    "id": "o2XxnmvQ-ww7"
   },
   "outputs": [
    {
     "name": "stdout",
     "output_type": "stream",
     "text": [
      "tensor([9, 2, 1, 1, 6, 1, 4, 6, 5, 7, 4, 5, 5, 3, 4, 1, 2, 4, 8, 0, 2, 5, 7, 5,\n",
      "        1, 6, 6, 0, 9, 3, 8, 8, 3, 3, 8, 0, 7, 5, 7, 9, 0, 1, 6, 7, 6, 7, 2, 1,\n",
      "        2, 6, 4, 6, 5, 8, 2, 2, 8, 4, 8, 0, 7, 7, 8, 5])\n"
     ]
    }
   ],
   "source": [
    "outputs = net(images)\n",
    "\n",
    "_, predicted = torch.max(outputs, 1)\n",
    "print(predicted)"
   ]
  },
  {
   "cell_type": "code",
   "execution_count": null,
   "metadata": {
    "executionInfo": {
     "elapsed": 136108,
     "status": "aborted",
     "timestamp": 1743959421303,
     "user": {
      "displayName": "댕댕이",
      "userId": "03886559970431811425"
     },
     "user_tz": -540
    },
    "id": "B0N7cPzX-ww7"
   },
   "outputs": [
    {
     "name": "stdout",
     "output_type": "stream",
     "text": [
      "Ankle boot, Pullover, Trouser, Trouser, Shirt, Trouser, \n"
     ]
    }
   ],
   "source": [
    "print(\"\".join(\"{}, \".format(labels_map[int(predicted[j].numpy())]) for j in range(6)))"
   ]
  },
  {
   "cell_type": "code",
   "execution_count": null,
   "metadata": {
    "executionInfo": {
     "elapsed": 136108,
     "status": "aborted",
     "timestamp": 1743959421304,
     "user": {
      "displayName": "댕댕이",
      "userId": "03886559970431811425"
     },
     "user_tz": -540
    },
    "id": "awvjcCU9-ww8"
   },
   "outputs": [
    {
     "name": "stdout",
     "output_type": "stream",
     "text": [
      "87.88\n"
     ]
    }
   ],
   "source": [
    "correct = 0\n",
    "total = 0\n",
    "\n",
    "with torch.no_grad():\n",
    "    for data in test_loader:\n",
    "        images, labels = data\n",
    "        outputs = net(images)\n",
    "        _, predicted = torch.max(outputs, 1)\n",
    "        total += labels.size(0)\n",
    "        correct += (predicted == labels).sum().item()\n",
    "\n",
    "print(100 * correct / total)"
   ]
  }
 ],
 "metadata": {
  "accelerator": "GPU",
  "colab": {
   "gpuType": "T4",
   "provenance": []
  },
  "kernelspec": {
   "display_name": "8lue",
   "language": "python",
   "name": "python3"
  },
  "language_info": {
   "codemirror_mode": {
    "name": "ipython",
    "version": 3
   },
   "file_extension": ".py",
   "mimetype": "text/x-python",
   "name": "python",
   "nbconvert_exporter": "python",
   "pygments_lexer": "ipython3",
   "version": "3.10.16"
  }
 },
 "nbformat": 4,
 "nbformat_minor": 0
}
